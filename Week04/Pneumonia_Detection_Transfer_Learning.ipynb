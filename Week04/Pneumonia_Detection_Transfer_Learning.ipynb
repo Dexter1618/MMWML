{
  "nbformat": 4,
  "nbformat_minor": 0,
  "metadata": {
    "colab": {
      "name": "Pneumonia_Detection_Draft02",
      "provenance": [],
      "collapsed_sections": [],
      "machine_shape": "hm"
    },
    "kernelspec": {
      "name": "python3",
      "display_name": "Python 3"
    },
    "accelerator": "GPU"
  },
  "cells": [
    {
      "cell_type": "markdown",
      "metadata": {
        "id": "MhxC0n0t1GqY",
        "colab_type": "text"
      },
      "source": [
        "# Week 04 | Siraj Raval | MMWML"
      ]
    },
    {
      "cell_type": "code",
      "metadata": {
        "id": "KJhVC_IgMH11",
        "colab_type": "code",
        "colab": {}
      },
      "source": [
        "import warnings\n",
        "warnings.filterwarnings(\"ignore\")"
      ],
      "execution_count": 0,
      "outputs": []
    },
    {
      "cell_type": "code",
      "metadata": {
        "id": "hueMPqAGyMCj",
        "colab_type": "code",
        "colab": {}
      },
      "source": [
        "import numpy as np\n",
        "\n",
        "from IPython.display import clear_output\n",
        "\n",
        "%matplotlib inline"
      ],
      "execution_count": 0,
      "outputs": []
    },
    {
      "cell_type": "code",
      "metadata": {
        "id": "evdOxU-DOrdI",
        "colab_type": "code",
        "colab": {}
      },
      "source": [
        "!pip install tensorflow-gpu\n",
        "!pip install h5py\n",
        "\n",
        "clear_output()"
      ],
      "execution_count": 0,
      "outputs": []
    },
    {
      "cell_type": "markdown",
      "metadata": {
        "id": "783baiXg2CqO",
        "colab_type": "text"
      },
      "source": [
        "## Homework Statement\n",
        "\n",
        "The homework for this week is to a build upon the `Inception V3` model and train a custom model on X-Ray Scans of patients' chests to identify the ones with pneumonia from those who don't have the condition."
      ]
    },
    {
      "cell_type": "markdown",
      "metadata": {
        "id": "rB4fVDK_3KCu",
        "colab_type": "text"
      },
      "source": [
        "# `0` References"
      ]
    },
    {
      "cell_type": "markdown",
      "metadata": {
        "id": "oOHQHUHM3UgO",
        "colab_type": "text"
      },
      "source": [
        "## `0.1` Project Help\n",
        "\n",
        "- This project/assignment/homework for Siraj's course has been based completely on a Paper Implementation [here](https://github.com/anjanatiha/Pneumonia-Detection-from-Chest-X-Ray-Images-with-Deep-Learning/blob/master/code/Detection%20of%20Pneumonia%20from%20Chest%20X-Ray%20Images%201.0.0.3.ipynb) by Github User, [anjanatiha](https://github.com/anjanatiha/)\n",
        "- Original paper accompanying the dataset used by this project: [link](https://doi.org/10.1016/j.cell.2018.02.010)\n",
        "- Dataset citation: [Kermany, Daniel; Zhang, Kang; Goldbaum, Michael (2018), “Labeled Optical Coherence Tomography (OCT) and Chest X-Ray Images for Classification”, Mendeley Data, v2](http://dx.doi.org/10.17632/rscbjbr9sj.2)"
      ]
    },
    {
      "cell_type": "markdown",
      "metadata": {
        "id": "_5S6pkW82fFf",
        "colab_type": "text"
      },
      "source": [
        "## `0.2` The Pneumonia Dataset\n",
        "\n",
        "- For more information, see [Week 04 README]()\n",
        "- For obtaining the original publication of the dataset, follow the accompanying paper DOI at Mendeley: [link](https://data.mendeley.com/datasets/rscbjbr9sj/2)\n",
        "- To avoid reading details, you can directly download the 1.2 GB dataset from here: [link](https://data.mendeley.com/datasets/rscbjbr9sj/2/files/41d542e7-7f91-47f6-9ff2-dd8e5a5a7861/ChestXRay2017.zip)"
      ]
    },
    {
      "cell_type": "markdown",
      "metadata": {
        "id": "EZolPSk54hO4",
        "colab_type": "text"
      },
      "source": [
        "# `1` Dataset EDA"
      ]
    },
    {
      "cell_type": "markdown",
      "metadata": {
        "id": "8ONwPYx64lQX",
        "colab_type": "text"
      },
      "source": [
        "## `1.1` Downloading the dataset "
      ]
    },
    {
      "cell_type": "code",
      "metadata": {
        "id": "hR-hT-A22Zj8",
        "colab_type": "code",
        "colab": {}
      },
      "source": [
        "!wget https://data.mendeley.com/datasets/rscbjbr9sj/2/files/41d542e7-7f91-47f6-9ff2-dd8e5a5a7861/ChestXRay2017.zip\n",
        "\n",
        "clear_output()"
      ],
      "execution_count": 0,
      "outputs": []
    },
    {
      "cell_type": "code",
      "metadata": {
        "id": "HDUH0raa5oev",
        "colab_type": "code",
        "outputId": "fec02ccb-03ce-4bc9-df44-0d79e4306234",
        "colab": {
          "base_uri": "https://localhost:8080/",
          "height": 54
        }
      },
      "source": [
        "!ls"
      ],
      "execution_count": 0,
      "outputs": [
        {
          "output_type": "stream",
          "text": [
            "chest_xray\t   ChestXRay2017.zip.1\tmyModel_after_10_epochs\n",
            "ChestXRay2017.zip  __MACOSX\t\tsample_data\n"
          ],
          "name": "stdout"
        }
      ]
    },
    {
      "cell_type": "markdown",
      "metadata": {
        "id": "WsMcIYEpc_cy",
        "colab_type": "text"
      },
      "source": [
        "## `1.2` Inspecting contents of `ChestXRay2017.zip`"
      ]
    },
    {
      "cell_type": "code",
      "metadata": {
        "id": "YWuULZnTcwKl",
        "colab_type": "code",
        "colab": {}
      },
      "source": [
        "from zipfile import ZipFile\n",
        "\n",
        "with ZipFile(\"./ChestXRay2017.zip\", \"r\") as f:\n",
        "    f.extractall(path = \"./\")"
      ],
      "execution_count": 0,
      "outputs": []
    },
    {
      "cell_type": "code",
      "metadata": {
        "id": "_KdvGTaXdgMj",
        "colab_type": "code",
        "outputId": "98089c83-a57d-4758-d943-be9f5cd43154",
        "colab": {
          "base_uri": "https://localhost:8080/",
          "height": 54
        }
      },
      "source": [
        "!ls"
      ],
      "execution_count": 0,
      "outputs": [
        {
          "output_type": "stream",
          "text": [
            "chest_xray\t   ChestXRay2017.zip.1\tmyModel_after_10_epochs\n",
            "ChestXRay2017.zip  __MACOSX\t\tsample_data\n"
          ],
          "name": "stdout"
        }
      ]
    },
    {
      "cell_type": "code",
      "metadata": {
        "id": "1V_QLroSdj7b",
        "colab_type": "code",
        "outputId": "d2b9221b-1f0b-4de7-be1b-49d338134216",
        "colab": {
          "base_uri": "https://localhost:8080/",
          "height": 35
        }
      },
      "source": [
        "!ls chest_xray"
      ],
      "execution_count": 0,
      "outputs": [
        {
          "output_type": "stream",
          "text": [
            "test  train\n"
          ],
          "name": "stdout"
        }
      ]
    },
    {
      "cell_type": "code",
      "metadata": {
        "id": "OVgqc-XwerxQ",
        "colab_type": "code",
        "outputId": "790cb85a-d090-40c6-d575-ff3f8157a155",
        "colab": {
          "base_uri": "https://localhost:8080/",
          "height": 35
        }
      },
      "source": [
        "!ls chest_xray/train"
      ],
      "execution_count": 0,
      "outputs": [
        {
          "output_type": "stream",
          "text": [
            "NORMAL\tPNEUMONIA\n"
          ],
          "name": "stdout"
        }
      ]
    },
    {
      "cell_type": "code",
      "metadata": {
        "id": "bELA_v7zexI0",
        "colab_type": "code",
        "outputId": "a68df24c-d663-46f1-c1b6-0dfc6f63226f",
        "colab": {
          "base_uri": "https://localhost:8080/",
          "height": 35
        }
      },
      "source": [
        "!ls chest_xray/test"
      ],
      "execution_count": 0,
      "outputs": [
        {
          "output_type": "stream",
          "text": [
            "NORMAL\tPNEUMONIA\n"
          ],
          "name": "stdout"
        }
      ]
    },
    {
      "cell_type": "markdown",
      "metadata": {
        "id": "OvoF82emivkm",
        "colab_type": "text"
      },
      "source": [
        "## `1.3` Creating `ImageGenerator` instances for training, validating and testing"
      ]
    },
    {
      "cell_type": "markdown",
      "metadata": {
        "id": "VL1a8FcsMcAr",
        "colab_type": "text"
      },
      "source": [
        "***Remark***\n",
        "\n",
        "The best resources I found to understand the issues I faced in this section are:\n",
        "\n",
        "- [How to get a `validation_iterator`](https://stackoverflow.com/questions/42443936/keras-split-train-test-set-when-using-imagedatagenerator)\n",
        "- [Image Scaling Error](https://stackoverflow.com/questions/43292009/keras-and-imagegenerator-outputs-black-images)\n",
        "- [How to use `flow_from_directory`](https://stackoverflow.com/questions/49017331/keras-flow-from-directorydirectory)"
      ]
    },
    {
      "cell_type": "code",
      "metadata": {
        "id": "_AKeWf-lezKj",
        "colab_type": "code",
        "colab": {}
      },
      "source": [
        "from pathlib import Path\n",
        "\n",
        "train_files = \"./chest_xray/train/\"\n",
        "test_files = \"./chest_xray/test/\"\n",
        "\n",
        "positive_class_folder_name = \"PNEUMONIA\"\n",
        "negative_class_folder_name = \"NORMAL\""
      ],
      "execution_count": 0,
      "outputs": []
    },
    {
      "cell_type": "code",
      "metadata": {
        "id": "eJ1L-1Mekozt",
        "colab_type": "code",
        "outputId": "ae886191-85a8-4450-eb80-738db3e20594",
        "colab": {
          "base_uri": "https://localhost:8080/",
          "height": 54
        }
      },
      "source": [
        "# training files\n",
        "\n",
        "# number of X-RAYS which show Pneumonia\n",
        "P = Path(train_files + positive_class_folder_name + \"/\")\n",
        "temp = list(P.glob(\"*.jpeg\"))\n",
        "print(\"Training-Pneumonia - %i \" % len(temp))\n",
        "\n",
        "# number of X-RAYS which are normal\n",
        "P = P = Path(train_files + negative_class_folder_name + \"/\")\n",
        "temp = list(P.glob(\"*.jpeg\"))\n",
        "print(\"Training-Normal - %i \" % len(temp))"
      ],
      "execution_count": 0,
      "outputs": [
        {
          "output_type": "stream",
          "text": [
            "Training-Pneumonia - 3883 \n",
            "Training-Normal - 1349 \n"
          ],
          "name": "stdout"
        }
      ]
    },
    {
      "cell_type": "code",
      "metadata": {
        "id": "Pu2Iv5lsk58G",
        "colab_type": "code",
        "outputId": "7a323374-a5ad-4315-a3f7-17b97c9387b9",
        "colab": {
          "base_uri": "https://localhost:8080/",
          "height": 54
        }
      },
      "source": [
        "# testing files\n",
        "\n",
        "# number of X-RAYS which show Pneumonia\n",
        "P = Path(test_files + positive_class_folder_name + \"/\")\n",
        "temp = list(P.glob(\"*.jpeg\"))\n",
        "print(\"Testing-Pneumonia - %i \" % len(temp))\n",
        "\n",
        "# number of X-RAYS which are normal\n",
        "P = P = Path(test_files + negative_class_folder_name + \"/\")\n",
        "temp = list(P.glob(\"*.jpeg\"))\n",
        "print(\"Testing-Normal - %i \" % len(temp))"
      ],
      "execution_count": 0,
      "outputs": [
        {
          "output_type": "stream",
          "text": [
            "Testing-Pneumonia - 390 \n",
            "Testing-Normal - 234 \n"
          ],
          "name": "stdout"
        }
      ]
    },
    {
      "cell_type": "code",
      "metadata": {
        "id": "ebYeH09Dp53m",
        "colab_type": "code",
        "colab": {}
      },
      "source": [
        "# creating ImageDataGenerators for training\n",
        "\n",
        "\"\"\"\n",
        "The training data generator must have other augmentation parameters in addition to the rescaling\n",
        "parameter `rescale`.\n",
        "\n",
        "Why?\n",
        "\n",
        "-   The model needs to trained to learn to focus on the essential pieces that determine the answer\n",
        "    inspite of the possible variations it may find in new X-RAY images. Augmentation parameters like\n",
        "    random zooming and flipping simulate unpredictable variations\n",
        "-   The test images should be just like the real-life examples of X-RAY images: they don't have the simulated\n",
        "    effects like those in the training data.\n",
        "-   The images used for validation during training must also be like the test-images.\n",
        "    \n",
        "\"\"\"\n",
        "\n",
        "\n",
        "from tensorflow.keras.preprocessing.image import ImageDataGenerator\n",
        "\n",
        "train_generator = ImageDataGenerator(featurewise_center = True,\n",
        "                                     shear_range = 0.2,\n",
        "                                     rescale = 1.0/255,\n",
        "                                     horizontal_flip = True,\n",
        "                                     validation_split = 0.2)\n",
        "\n",
        "test_generator = ImageDataGenerator(rescale = 1.0/255)"
      ],
      "execution_count": 0,
      "outputs": []
    },
    {
      "cell_type": "code",
      "metadata": {
        "id": "6Zd6X89VqYum",
        "colab_type": "code",
        "outputId": "3ac0245f-806f-4e8c-ca37-cf3593456fe8",
        "colab": {
          "base_uri": "https://localhost:8080/",
          "height": 72
        }
      },
      "source": [
        "# create batch iterators for the train, validation and test data\n",
        "\n",
        "train_iterator = train_generator.flow_from_directory(train_files, \n",
        "                                                     target_size = (150, 150),\n",
        "                                                     classes = [positive_class_folder_name, negative_class_folder_name],\n",
        "                                                     batch_size = 256, \n",
        "                                                     shuffle = True, \n",
        "                                                     class_mode = \"binary\",\n",
        "                                                     subset = \"training\")\n",
        "                                                    \n",
        "validation_iterator = train_generator.flow_from_directory(train_files, \n",
        "                                                          target_size = (150, 150),\n",
        "                                                          classes = [positive_class_folder_name, negative_class_folder_name],\n",
        "                                                          batch_size = 128, \n",
        "                                                          shuffle = False, \n",
        "                                                          class_mode = \"binary\",\n",
        "                                                          subset = \"validation\")\n",
        "\n",
        "test_iterator = test_generator.flow_from_directory(test_files, \n",
        "                                                   target_size = (150, 150), \n",
        "                                                   classes = [positive_class_folder_name, negative_class_folder_name],\n",
        "                                                   batch_size = 64, \n",
        "                                                   shuffle = False,\n",
        "                                                   class_mode = \"binary\")"
      ],
      "execution_count": 0,
      "outputs": [
        {
          "output_type": "stream",
          "text": [
            "Found 4187 images belonging to 2 classes.\n",
            "Found 1045 images belonging to 2 classes.\n",
            "Found 624 images belonging to 2 classes.\n"
          ],
          "name": "stdout"
        }
      ]
    },
    {
      "cell_type": "code",
      "metadata": {
        "id": "dOPlE4IPpYE7",
        "colab_type": "code",
        "outputId": "500bb3b2-095e-45fb-f4fd-3fcbc9c8a619",
        "colab": {
          "base_uri": "https://localhost:8080/",
          "height": 35
        }
      },
      "source": [
        "# count for class instances in training data\n",
        "\n",
        "class1 = sum(train_iterator.classes)\n",
        "class0 = len(train_iterator.classes) - class1\n",
        "\n",
        "print(\"Label 0 - %i, Label 1 - %i\" % (class0, class1))"
      ],
      "execution_count": 0,
      "outputs": [
        {
          "output_type": "stream",
          "text": [
            "Label 0 - 3107, Label 1 - 1080\n"
          ],
          "name": "stdout"
        }
      ]
    },
    {
      "cell_type": "code",
      "metadata": {
        "id": "I-vNMdZsquer",
        "colab_type": "code",
        "outputId": "bbe3096e-30d8-4822-b273-05b667f480b1",
        "colab": {
          "base_uri": "https://localhost:8080/",
          "height": 35
        }
      },
      "source": [
        "# count for class instances in validation data\n",
        "\n",
        "class1 = sum(validation_iterator.classes)\n",
        "class0 = len(validation_iterator.classes) - class1\n",
        "\n",
        "print(\"Label 0 - %i, Label 1 - %i\" % (class0, class1))"
      ],
      "execution_count": 0,
      "outputs": [
        {
          "output_type": "stream",
          "text": [
            "Label 0 - 776, Label 1 - 269\n"
          ],
          "name": "stdout"
        }
      ]
    },
    {
      "cell_type": "code",
      "metadata": {
        "id": "yORZWC5Drm_T",
        "colab_type": "code",
        "outputId": "7c320acd-290c-42fe-9bb9-bc4873fddce5",
        "colab": {
          "base_uri": "https://localhost:8080/",
          "height": 35
        }
      },
      "source": [
        "# count for class instances in testing data\n",
        "\n",
        "class1 = sum(test_iterator.classes)\n",
        "class0 = len(test_iterator.classes) - class1\n",
        "\n",
        "print(\"Label 0 - %i, Label 1 - %i\" % (class0, class1))"
      ],
      "execution_count": 0,
      "outputs": [
        {
          "output_type": "stream",
          "text": [
            "Label 0 - 390, Label 1 - 234\n"
          ],
          "name": "stdout"
        }
      ]
    },
    {
      "cell_type": "markdown",
      "metadata": {
        "id": "BO85_lVLr3Q7",
        "colab_type": "text"
      },
      "source": [
        "***Remark***\n",
        "\n",
        "As per as the output of the previous 3 cells, we can deduce that `ImageGenerator` assigns the numeric labels as:\n",
        "- `negative_class_folder_name` -> the label `1`\n",
        "- `positive_class_folder_name` -> the label `0`"
      ]
    },
    {
      "cell_type": "code",
      "metadata": {
        "id": "kxcLYV5yvIcW",
        "colab_type": "code",
        "outputId": "1a1f6e74-ef40-4fbd-dbd7-a8e4bb56f952",
        "colab": {
          "base_uri": "https://localhost:8080/",
          "height": 35
        }
      },
      "source": [
        "# defining category label weights as per imbalance amount of the training dataset\n",
        "\n",
        "from sklearn.utils.class_weight import compute_class_weight\n",
        "\n",
        "y = train_iterator.classes\n",
        "labels = np.unique(y)\n",
        "\n",
        "train_class_weights = compute_class_weight(\"balanced\", labels, y)\n",
        "train_class_weights"
      ],
      "execution_count": 0,
      "outputs": [
        {
          "output_type": "execute_result",
          "data": {
            "text/plain": [
              "array([0.67380109, 1.93842593])"
            ]
          },
          "metadata": {
            "tags": []
          },
          "execution_count": 122
        }
      ]
    },
    {
      "cell_type": "markdown",
      "metadata": {
        "id": "1faIo1P3orRl",
        "colab_type": "text"
      },
      "source": [
        "# `2` Transfer Learning using the `InceptionV3` pretrained CNN"
      ]
    },
    {
      "cell_type": "code",
      "metadata": {
        "id": "dF5CaLD2UyG_",
        "colab_type": "code",
        "colab": {}
      },
      "source": [
        "# are the Colab GPUs available to tensorflow?\n",
        "\n",
        "from tensorflow.python.client import device_lib\n",
        "print(device_lib.list_local_devices())"
      ],
      "execution_count": 0,
      "outputs": []
    },
    {
      "cell_type": "code",
      "metadata": {
        "id": "mM275qVUo3zn",
        "colab_type": "code",
        "colab": {}
      },
      "source": [
        "from tensorflow.keras.backend import clear_session\n",
        "\n",
        "from tensorflow.keras.layers import Dropout, GlobalAveragePooling2D, BatchNormalization, Dense\n",
        "\n",
        "from tensorflow.keras.models import Sequential, load_model, save_model\n",
        "from tensorflow.keras.applications.inception_v3 import InceptionV3\n",
        "from tensorflow.keras.optimizers import RMSprop"
      ],
      "execution_count": 0,
      "outputs": []
    },
    {
      "cell_type": "markdown",
      "metadata": {
        "id": "lEFTR7QpGDUB",
        "colab_type": "text"
      },
      "source": [
        "## `2.1` Modify the `Inception V3` CNN as per as the output requirements"
      ]
    },
    {
      "cell_type": "code",
      "metadata": {
        "colab_type": "code",
        "id": "2xnX-NTsFQQa",
        "outputId": "85339c14-df05-4851-c3fa-8b876813aadb",
        "colab": {
          "base_uri": "https://localhost:8080/",
          "height": 563
        }
      },
      "source": [
        "clear_session()\n",
        "\n",
        "base_model = InceptionV3(weights = \"imagenet\", include_top = False, input_shape = (150, 150, 3))\n",
        "clear_output()\n",
        "\n",
        "base_model.trainable = False\n",
        "myModel = Sequential([base_model,\n",
        "                      GlobalAveragePooling2D(),\n",
        "                      Dense(1024, activation = \"relu\"),\n",
        "                      Dropout(0.3),\n",
        "                      Dense(512, activation = \"relu\"),\n",
        "                      Dropout(0.3),\n",
        "                      Dense(256, activation = \"relu\"),\n",
        "                      Dropout(0.3),\n",
        "                      Dense(128, activation = \"relu\"),\n",
        "                      Dropout(0.3),\n",
        "                      Dense(1, activation = \"sigmoid\")])\n",
        "\n",
        "myModel.compile(RMSprop(), loss = \"binary_crossentropy\", metrics = [\"accuracy\"])\n",
        "myModel.summary()"
      ],
      "execution_count": 0,
      "outputs": [
        {
          "output_type": "stream",
          "text": [
            "Model: \"sequential\"\n",
            "_________________________________________________________________\n",
            "Layer (type)                 Output Shape              Param #   \n",
            "=================================================================\n",
            "inception_v3 (Model)         (None, 3, 3, 2048)        21802784  \n",
            "_________________________________________________________________\n",
            "global_average_pooling2d (Gl (None, 2048)              0         \n",
            "_________________________________________________________________\n",
            "dense (Dense)                (None, 1024)              2098176   \n",
            "_________________________________________________________________\n",
            "dropout (Dropout)            (None, 1024)              0         \n",
            "_________________________________________________________________\n",
            "dense_1 (Dense)              (None, 512)               524800    \n",
            "_________________________________________________________________\n",
            "dropout_1 (Dropout)          (None, 512)               0         \n",
            "_________________________________________________________________\n",
            "dense_2 (Dense)              (None, 256)               131328    \n",
            "_________________________________________________________________\n",
            "dropout_2 (Dropout)          (None, 256)               0         \n",
            "_________________________________________________________________\n",
            "dense_3 (Dense)              (None, 128)               32896     \n",
            "_________________________________________________________________\n",
            "dropout_3 (Dropout)          (None, 128)               0         \n",
            "_________________________________________________________________\n",
            "dense_4 (Dense)              (None, 1)                 129       \n",
            "=================================================================\n",
            "Total params: 24,590,113\n",
            "Trainable params: 2,787,329\n",
            "Non-trainable params: 21,802,784\n",
            "_________________________________________________________________\n"
          ],
          "name": "stdout"
        }
      ]
    },
    {
      "cell_type": "markdown",
      "metadata": {
        "id": "Od9DBBrsGn86",
        "colab_type": "text"
      },
      "source": [
        "## `2.2` Train the model"
      ]
    },
    {
      "cell_type": "code",
      "metadata": {
        "id": "9SYw61DrJpTJ",
        "colab_type": "code",
        "outputId": "2b95f8a6-090c-4313-d158-0c60cbba03a1",
        "colab": {
          "base_uri": "https://localhost:8080/",
          "height": 381
        }
      },
      "source": [
        "history = myModel.fit_generator(train_iterator, \n",
        "                                steps_per_epoch = len(train_iterator),\n",
        "                                epochs = 10,\n",
        "                                verbose = 1,\n",
        "                                workers = 20,\n",
        "                                validation_data = validation_iterator, \n",
        "                                validation_steps = len(validation_iterator),\n",
        "                                class_weight = train_class_weights)"
      ],
      "execution_count": 0,
      "outputs": [
        {
          "output_type": "stream",
          "text": [
            "Epoch 1/10\n",
            "28/28 [==============================] - 52s 2s/step - loss: 1.0464 - acc: 0.7036 - val_loss: 0.6137 - val_acc: 0.7426\n",
            "Epoch 2/10\n",
            "28/28 [==============================] - 45s 2s/step - loss: 0.4479 - acc: 0.7671 - val_loss: 0.3808 - val_acc: 0.8306\n",
            "Epoch 3/10\n",
            "28/28 [==============================] - 45s 2s/step - loss: 0.3592 - acc: 0.8565 - val_loss: 1.2742 - val_acc: 0.4833\n",
            "Epoch 4/10\n",
            "28/28 [==============================] - 44s 2s/step - loss: 0.2750 - acc: 0.8877 - val_loss: 3.6896 - val_acc: 0.3713\n",
            "Epoch 5/10\n",
            "28/28 [==============================] - 45s 2s/step - loss: 0.2853 - acc: 0.8844 - val_loss: 0.3941 - val_acc: 0.8488\n",
            "Epoch 6/10\n",
            "28/28 [==============================] - 44s 2s/step - loss: 0.2452 - acc: 0.9054 - val_loss: 0.8203 - val_acc: 0.7110\n",
            "Epoch 7/10\n",
            "28/28 [==============================] - 44s 2s/step - loss: 0.2383 - acc: 0.9030 - val_loss: 0.7217 - val_acc: 0.8220\n",
            "Epoch 8/10\n",
            "28/28 [==============================] - 45s 2s/step - loss: 0.2533 - acc: 0.9102 - val_loss: 0.4856 - val_acc: 0.7780\n",
            "Epoch 9/10\n",
            "28/28 [==============================] - 45s 2s/step - loss: 0.2206 - acc: 0.9090 - val_loss: 0.3186 - val_acc: 0.8737\n",
            "Epoch 10/10\n",
            "28/28 [==============================] - 45s 2s/step - loss: 0.2104 - acc: 0.9162 - val_loss: 0.8541 - val_acc: 0.7311\n"
          ],
          "name": "stdout"
        }
      ]
    },
    {
      "cell_type": "markdown",
      "metadata": {
        "id": "iyhJXdPwW9bd",
        "colab_type": "text"
      },
      "source": [
        "## `2.3` Save the model"
      ]
    },
    {
      "cell_type": "code",
      "metadata": {
        "id": "fuDBoLRCXAhW",
        "colab_type": "code",
        "colab": {}
      },
      "source": [
        "save_model(myModel, \"./myModel_after_10_epochs\", overwrite = True, include_optimizer = True)"
      ],
      "execution_count": 0,
      "outputs": []
    },
    {
      "cell_type": "markdown",
      "metadata": {
        "id": "5IbRRYfSX23G",
        "colab_type": "text"
      },
      "source": [
        "## `2.4` Load `myModel` from local directory if required"
      ]
    },
    {
      "cell_type": "code",
      "metadata": {
        "id": "cwb9oaavX74I",
        "colab_type": "code",
        "colab": {}
      },
      "source": [
        "myModel = load_model(\"./myModel_after_10_epochs\")"
      ],
      "execution_count": 0,
      "outputs": []
    },
    {
      "cell_type": "markdown",
      "metadata": {
        "id": "k4fLrzsmV5j2",
        "colab_type": "text"
      },
      "source": [
        "## `2.5` Compute Evaluation Metrics"
      ]
    },
    {
      "cell_type": "code",
      "metadata": {
        "id": "HRKNqJNJV99d",
        "colab_type": "code",
        "outputId": "08f6ccb6-6e24-4cff-fb5f-0147d35e8abd",
        "colab": {
          "base_uri": "https://localhost:8080/",
          "height": 181
        }
      },
      "source": [
        "from sklearn.metrics import classification_report\n",
        "\n",
        "\n",
        "yhat = myModel.predict_generator(test_iterator,\n",
        "                                 steps = len(test_iterator),\n",
        "                                 verbose = 0)  \n",
        "mask = yhat > 0.5\n",
        "yhat[mask] = 1\n",
        "yhat[~mask] = 0\n",
        "\n",
        "y = test_iterator.classes\n",
        "\n",
        "target_names = [positive_class_folder_name, negative_class_folder_name]\n",
        "print(classification_report(y, yhat, target_names = target_names))"
      ],
      "execution_count": 137,
      "outputs": [
        {
          "output_type": "stream",
          "text": [
            "              precision    recall  f1-score   support\n",
            "\n",
            "   PNEUMONIA       0.77      0.67      0.72       390\n",
            "      NORMAL       0.55      0.67      0.61       234\n",
            "\n",
            "    accuracy                           0.67       624\n",
            "   macro avg       0.66      0.67      0.66       624\n",
            "weighted avg       0.69      0.67      0.68       624\n",
            "\n"
          ],
          "name": "stdout"
        }
      ]
    },
    {
      "cell_type": "markdown",
      "metadata": {
        "id": "OOiKlE_MHTd1",
        "colab_type": "text"
      },
      "source": [
        "## `2.6` Test output"
      ]
    },
    {
      "cell_type": "code",
      "metadata": {
        "id": "pxrMGLbIGRpz",
        "colab_type": "code",
        "outputId": "301d0fd0-abc0-4851-c28f-bf53f6fd6829",
        "colab": {
          "base_uri": "https://localhost:8080/",
          "height": 729
        }
      },
      "source": [
        "from random import randint\n",
        "import matplotlib.pyplot as plt\n",
        "import cv2\n",
        "\n",
        "%matplotlib inline\n",
        "\n",
        "label_dict = {0:\"PNEUMONIA\", 1:\"NORMAL\"}\n",
        "\n",
        "test_file_names = test_iterator.filenames\n",
        "n = len(test_file_names)\n",
        "\n",
        "plt.rcParams[\"figure.figsize\"] = 12, 10\n",
        "\n",
        "for i in range(5):\n",
        "    index = randint(0, n - 1)\n",
        "    file_name = test_files + test_file_names[index]\n",
        "    \n",
        "    image = cv2.imread(file_name, cv2.IMREAD_COLOR)\n",
        "    image = cv2.cvtColor(image, cv2.COLOR_BGR2RGB)\n",
        "    \n",
        "    ground_truth_label = label_dict[int(y[index])]\n",
        "    predicted_label = label_dict[int(yhat[index])]\n",
        "    \n",
        "    plt.subplot(5, 1, i + 1)\n",
        "    plt.axis(\"off\")\n",
        "    plt.imshow(image)\n",
        "    \n",
        "    title = \"Ground Truth = \" + ground_truth_label + \", Predicted Label = \" + predicted_label\n",
        "    plt.title(title)\n",
        "\n",
        "plt.tight_layout()\n",
        "plt.show()"
      ],
      "execution_count": 148,
      "outputs": [
        {
          "output_type": "display_data",
          "data": {
            "image/png": "[encoded data removed]",
            "text/plain": [
              "<Figure size 864x720 with 5 Axes>"
            ]
          },
          "metadata": {
            "tags": []
          }
        }
      ]
    }
  ]
}