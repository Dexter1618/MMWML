{
 "cells": [
  {
   "cell_type": "markdown",
   "metadata": {},
   "source": [
    "# Week 03 | Siraj Raval | MMWML"
   ]
  },
  {
   "cell_type": "code",
   "execution_count": 1,
   "metadata": {
    "ExecuteTime": {
     "end_time": "2019-09-17T09:08:10.464058Z",
     "start_time": "2019-09-17T09:08:08.700376Z"
    }
   },
   "outputs": [],
   "source": [
    "import numpy as np\n",
    "import matplotlib.pyplot as plt\n",
    "import seaborn as sns\n",
    "\n",
    "%matplotlib inline\n",
    "%load_ext autoreload\n",
    "%autoreload 2"
   ]
  },
  {
   "cell_type": "markdown",
   "metadata": {
    "heading_collapsed": true
   },
   "source": [
    "## Homework Statement\n",
    "\n",
    "_The homework for this week is to a build a linear model to classify a fradulent test transaction from a non-fradulent one_"
   ]
  },
  {
   "cell_type": "markdown",
   "metadata": {
    "heading_collapsed": true
   },
   "source": [
    "## 0 Obtain the IEEE-CIS Fraud Detection Dataset 2019\n",
    "\n",
    "_For more information, see [Week 03 README](https://github.com/Dexter1618/MMWML/blob/master/Week03/README.md)_"
   ]
  },
  {
   "cell_type": "markdown",
   "metadata": {
    "heading_collapsed": true
   },
   "source": [
    "## 1 Dataset EDA"
   ]
  },
  {
   "cell_type": "markdown",
   "metadata": {
    "heading_collapsed": true,
    "hidden": true
   },
   "source": [
    "### 1.1 Read `train_*.csv` files"
   ]
  },
  {
   "cell_type": "code",
   "execution_count": 2,
   "metadata": {
    "ExecuteTime": {
     "end_time": "2019-09-17T09:08:10.630613Z",
     "start_time": "2019-09-17T09:08:10.465028Z"
    },
    "hidden": true
   },
   "outputs": [],
   "source": [
    "import pandas as pd\n",
    "from zipfile import ZipFile"
   ]
  },
  {
   "cell_type": "code",
   "execution_count": 3,
   "metadata": {
    "ExecuteTime": {
     "end_time": "2019-09-17T09:08:10.802127Z",
     "start_time": "2019-09-17T09:08:10.631614Z"
    },
    "hidden": true
   },
   "outputs": [
    {
     "data": {
      "text/plain": [
       "[<ZipInfo filename='test_identity.csv' compress_type=deflate file_size=25797161 compress_size=3114539>,\n",
       " <ZipInfo filename='test_transaction.csv' compress_type=deflate file_size=613194934 compress_size=49628814>,\n",
       " <ZipInfo filename='train_identity.csv' compress_type=deflate file_size=26529680 compress_size=3165987>,\n",
       " <ZipInfo filename='sample_submission.csv' compress_type=deflate file_size=6080314 compress_size=1192962>,\n",
       " <ZipInfo filename='train_transaction.csv' compress_type=deflate file_size=683351067 compress_size=55058592>]"
      ]
     },
     "execution_count": 3,
     "metadata": {},
     "output_type": "execute_result"
    }
   ],
   "source": [
    "f = ZipFile(\"../ieee-fraud-detection.zip\")\n",
    "f.infolist()"
   ]
  },
  {
   "cell_type": "code",
   "execution_count": 4,
   "metadata": {
    "ExecuteTime": {
     "end_time": "2019-09-17T09:08:26.769592Z",
     "start_time": "2019-09-17T09:08:10.804121Z"
    },
    "hidden": true
   },
   "outputs": [],
   "source": [
    "transaction_df = pd.read_csv(f.open(\"train_transaction.csv\"))\n",
    "identify_df = pd.read_csv(f.open(\"train_identity.csv\"))"
   ]
  },
  {
   "cell_type": "code",
   "execution_count": 5,
   "metadata": {
    "ExecuteTime": {
     "end_time": "2019-09-17T09:08:26.961542Z",
     "start_time": "2019-09-17T09:08:26.770528Z"
    },
    "hidden": true
   },
   "outputs": [
    {
     "data": {
      "text/html": [
       "<div>\n",
       "<style scoped>\n",
       "    .dataframe tbody tr th:only-of-type {\n",
       "        vertical-align: middle;\n",
       "    }\n",
       "\n",
       "    .dataframe tbody tr th {\n",
       "        vertical-align: top;\n",
       "    }\n",
       "\n",
       "    .dataframe thead th {\n",
       "        text-align: right;\n",
       "    }\n",
       "</style>\n",
       "<table border=\"1\" class=\"dataframe\">\n",
       "  <thead>\n",
       "    <tr style=\"text-align: right;\">\n",
       "      <th></th>\n",
       "      <th>TransactionID</th>\n",
       "      <th>isFraud</th>\n",
       "      <th>TransactionDT</th>\n",
       "      <th>TransactionAmt</th>\n",
       "      <th>ProductCD</th>\n",
       "      <th>card1</th>\n",
       "      <th>card2</th>\n",
       "      <th>card3</th>\n",
       "      <th>card4</th>\n",
       "      <th>card5</th>\n",
       "      <th>...</th>\n",
       "      <th>V330</th>\n",
       "      <th>V331</th>\n",
       "      <th>V332</th>\n",
       "      <th>V333</th>\n",
       "      <th>V334</th>\n",
       "      <th>V335</th>\n",
       "      <th>V336</th>\n",
       "      <th>V337</th>\n",
       "      <th>V338</th>\n",
       "      <th>V339</th>\n",
       "    </tr>\n",
       "  </thead>\n",
       "  <tbody>\n",
       "    <tr>\n",
       "      <td>212232</td>\n",
       "      <td>3199232</td>\n",
       "      <td>0</td>\n",
       "      <td>4921356</td>\n",
       "      <td>83.50</td>\n",
       "      <td>W</td>\n",
       "      <td>13108</td>\n",
       "      <td>215.0</td>\n",
       "      <td>150.0</td>\n",
       "      <td>visa</td>\n",
       "      <td>226.0</td>\n",
       "      <td>...</td>\n",
       "      <td>NaN</td>\n",
       "      <td>NaN</td>\n",
       "      <td>NaN</td>\n",
       "      <td>NaN</td>\n",
       "      <td>NaN</td>\n",
       "      <td>NaN</td>\n",
       "      <td>NaN</td>\n",
       "      <td>NaN</td>\n",
       "      <td>NaN</td>\n",
       "      <td>NaN</td>\n",
       "    </tr>\n",
       "    <tr>\n",
       "      <td>312781</td>\n",
       "      <td>3299781</td>\n",
       "      <td>0</td>\n",
       "      <td>7778707</td>\n",
       "      <td>39.00</td>\n",
       "      <td>W</td>\n",
       "      <td>12695</td>\n",
       "      <td>490.0</td>\n",
       "      <td>150.0</td>\n",
       "      <td>visa</td>\n",
       "      <td>226.0</td>\n",
       "      <td>...</td>\n",
       "      <td>NaN</td>\n",
       "      <td>NaN</td>\n",
       "      <td>NaN</td>\n",
       "      <td>NaN</td>\n",
       "      <td>NaN</td>\n",
       "      <td>NaN</td>\n",
       "      <td>NaN</td>\n",
       "      <td>NaN</td>\n",
       "      <td>NaN</td>\n",
       "      <td>NaN</td>\n",
       "    </tr>\n",
       "    <tr>\n",
       "      <td>257515</td>\n",
       "      <td>3244515</td>\n",
       "      <td>0</td>\n",
       "      <td>6187109</td>\n",
       "      <td>117.00</td>\n",
       "      <td>W</td>\n",
       "      <td>5840</td>\n",
       "      <td>532.0</td>\n",
       "      <td>150.0</td>\n",
       "      <td>mastercard</td>\n",
       "      <td>NaN</td>\n",
       "      <td>...</td>\n",
       "      <td>NaN</td>\n",
       "      <td>NaN</td>\n",
       "      <td>NaN</td>\n",
       "      <td>NaN</td>\n",
       "      <td>NaN</td>\n",
       "      <td>NaN</td>\n",
       "      <td>NaN</td>\n",
       "      <td>NaN</td>\n",
       "      <td>NaN</td>\n",
       "      <td>NaN</td>\n",
       "    </tr>\n",
       "    <tr>\n",
       "      <td>551031</td>\n",
       "      <td>3538031</td>\n",
       "      <td>0</td>\n",
       "      <td>14568370</td>\n",
       "      <td>200.00</td>\n",
       "      <td>R</td>\n",
       "      <td>18268</td>\n",
       "      <td>583.0</td>\n",
       "      <td>150.0</td>\n",
       "      <td>visa</td>\n",
       "      <td>226.0</td>\n",
       "      <td>...</td>\n",
       "      <td>0.0</td>\n",
       "      <td>0.0</td>\n",
       "      <td>0.0</td>\n",
       "      <td>0.0</td>\n",
       "      <td>0.0</td>\n",
       "      <td>0.0</td>\n",
       "      <td>0.0</td>\n",
       "      <td>0.0</td>\n",
       "      <td>0.0</td>\n",
       "      <td>0.0</td>\n",
       "    </tr>\n",
       "    <tr>\n",
       "      <td>464201</td>\n",
       "      <td>3451201</td>\n",
       "      <td>0</td>\n",
       "      <td>11931306</td>\n",
       "      <td>35.95</td>\n",
       "      <td>W</td>\n",
       "      <td>1444</td>\n",
       "      <td>490.0</td>\n",
       "      <td>150.0</td>\n",
       "      <td>visa</td>\n",
       "      <td>166.0</td>\n",
       "      <td>...</td>\n",
       "      <td>NaN</td>\n",
       "      <td>NaN</td>\n",
       "      <td>NaN</td>\n",
       "      <td>NaN</td>\n",
       "      <td>NaN</td>\n",
       "      <td>NaN</td>\n",
       "      <td>NaN</td>\n",
       "      <td>NaN</td>\n",
       "      <td>NaN</td>\n",
       "      <td>NaN</td>\n",
       "    </tr>\n",
       "  </tbody>\n",
       "</table>\n",
       "<p>5 rows × 394 columns</p>\n",
       "</div>"
      ],
      "text/plain": [
       "        TransactionID  isFraud  TransactionDT  TransactionAmt ProductCD  \\\n",
       "212232        3199232        0        4921356           83.50         W   \n",
       "312781        3299781        0        7778707           39.00         W   \n",
       "257515        3244515        0        6187109          117.00         W   \n",
       "551031        3538031        0       14568370          200.00         R   \n",
       "464201        3451201        0       11931306           35.95         W   \n",
       "\n",
       "        card1  card2  card3       card4  card5  ... V330  V331  V332  V333  \\\n",
       "212232  13108  215.0  150.0        visa  226.0  ...  NaN   NaN   NaN   NaN   \n",
       "312781  12695  490.0  150.0        visa  226.0  ...  NaN   NaN   NaN   NaN   \n",
       "257515   5840  532.0  150.0  mastercard    NaN  ...  NaN   NaN   NaN   NaN   \n",
       "551031  18268  583.0  150.0        visa  226.0  ...  0.0   0.0   0.0   0.0   \n",
       "464201   1444  490.0  150.0        visa  166.0  ...  NaN   NaN   NaN   NaN   \n",
       "\n",
       "        V334 V335 V336  V337  V338  V339  \n",
       "212232   NaN  NaN  NaN   NaN   NaN   NaN  \n",
       "312781   NaN  NaN  NaN   NaN   NaN   NaN  \n",
       "257515   NaN  NaN  NaN   NaN   NaN   NaN  \n",
       "551031   0.0  0.0  0.0   0.0   0.0   0.0  \n",
       "464201   NaN  NaN  NaN   NaN   NaN   NaN  \n",
       "\n",
       "[5 rows x 394 columns]"
      ]
     },
     "execution_count": 5,
     "metadata": {},
     "output_type": "execute_result"
    }
   ],
   "source": [
    "transaction_df.sample(5)"
   ]
  },
  {
   "cell_type": "code",
   "execution_count": 6,
   "metadata": {
    "ExecuteTime": {
     "end_time": "2019-09-17T09:08:27.139103Z",
     "start_time": "2019-09-17T09:08:26.962517Z"
    },
    "hidden": true
   },
   "outputs": [
    {
     "data": {
      "text/html": [
       "<div>\n",
       "<style scoped>\n",
       "    .dataframe tbody tr th:only-of-type {\n",
       "        vertical-align: middle;\n",
       "    }\n",
       "\n",
       "    .dataframe tbody tr th {\n",
       "        vertical-align: top;\n",
       "    }\n",
       "\n",
       "    .dataframe thead th {\n",
       "        text-align: right;\n",
       "    }\n",
       "</style>\n",
       "<table border=\"1\" class=\"dataframe\">\n",
       "  <thead>\n",
       "    <tr style=\"text-align: right;\">\n",
       "      <th></th>\n",
       "      <th>TransactionID</th>\n",
       "      <th>id_01</th>\n",
       "      <th>id_02</th>\n",
       "      <th>id_03</th>\n",
       "      <th>id_04</th>\n",
       "      <th>id_05</th>\n",
       "      <th>id_06</th>\n",
       "      <th>id_07</th>\n",
       "      <th>id_08</th>\n",
       "      <th>id_09</th>\n",
       "      <th>...</th>\n",
       "      <th>id_31</th>\n",
       "      <th>id_32</th>\n",
       "      <th>id_33</th>\n",
       "      <th>id_34</th>\n",
       "      <th>id_35</th>\n",
       "      <th>id_36</th>\n",
       "      <th>id_37</th>\n",
       "      <th>id_38</th>\n",
       "      <th>DeviceType</th>\n",
       "      <th>DeviceInfo</th>\n",
       "    </tr>\n",
       "  </thead>\n",
       "  <tbody>\n",
       "    <tr>\n",
       "      <td>52322</td>\n",
       "      <td>3103952</td>\n",
       "      <td>-5.0</td>\n",
       "      <td>161810.0</td>\n",
       "      <td>NaN</td>\n",
       "      <td>NaN</td>\n",
       "      <td>0.0</td>\n",
       "      <td>0.0</td>\n",
       "      <td>NaN</td>\n",
       "      <td>NaN</td>\n",
       "      <td>NaN</td>\n",
       "      <td>...</td>\n",
       "      <td>mobile safari 11.0</td>\n",
       "      <td>32.0</td>\n",
       "      <td>1334x750</td>\n",
       "      <td>match_status:1</td>\n",
       "      <td>T</td>\n",
       "      <td>F</td>\n",
       "      <td>F</td>\n",
       "      <td>F</td>\n",
       "      <td>mobile</td>\n",
       "      <td>iOS Device</td>\n",
       "    </tr>\n",
       "    <tr>\n",
       "      <td>134796</td>\n",
       "      <td>3532306</td>\n",
       "      <td>-15.0</td>\n",
       "      <td>360853.0</td>\n",
       "      <td>NaN</td>\n",
       "      <td>NaN</td>\n",
       "      <td>0.0</td>\n",
       "      <td>0.0</td>\n",
       "      <td>NaN</td>\n",
       "      <td>NaN</td>\n",
       "      <td>NaN</td>\n",
       "      <td>...</td>\n",
       "      <td>chrome 63.0 for android</td>\n",
       "      <td>NaN</td>\n",
       "      <td>NaN</td>\n",
       "      <td>NaN</td>\n",
       "      <td>F</td>\n",
       "      <td>F</td>\n",
       "      <td>T</td>\n",
       "      <td>F</td>\n",
       "      <td>mobile</td>\n",
       "      <td>SM-G900FD</td>\n",
       "    </tr>\n",
       "    <tr>\n",
       "      <td>50909</td>\n",
       "      <td>3101721</td>\n",
       "      <td>-15.0</td>\n",
       "      <td>NaN</td>\n",
       "      <td>NaN</td>\n",
       "      <td>NaN</td>\n",
       "      <td>NaN</td>\n",
       "      <td>NaN</td>\n",
       "      <td>NaN</td>\n",
       "      <td>NaN</td>\n",
       "      <td>NaN</td>\n",
       "      <td>...</td>\n",
       "      <td>NaN</td>\n",
       "      <td>NaN</td>\n",
       "      <td>NaN</td>\n",
       "      <td>NaN</td>\n",
       "      <td>NaN</td>\n",
       "      <td>NaN</td>\n",
       "      <td>NaN</td>\n",
       "      <td>NaN</td>\n",
       "      <td>NaN</td>\n",
       "      <td>NaN</td>\n",
       "    </tr>\n",
       "    <tr>\n",
       "      <td>46478</td>\n",
       "      <td>3095540</td>\n",
       "      <td>-5.0</td>\n",
       "      <td>160674.0</td>\n",
       "      <td>0.0</td>\n",
       "      <td>0.0</td>\n",
       "      <td>0.0</td>\n",
       "      <td>0.0</td>\n",
       "      <td>NaN</td>\n",
       "      <td>NaN</td>\n",
       "      <td>0.0</td>\n",
       "      <td>...</td>\n",
       "      <td>chrome 63.0 for android</td>\n",
       "      <td>32.0</td>\n",
       "      <td>1920x1080</td>\n",
       "      <td>match_status:2</td>\n",
       "      <td>T</td>\n",
       "      <td>F</td>\n",
       "      <td>T</td>\n",
       "      <td>F</td>\n",
       "      <td>mobile</td>\n",
       "      <td>SM-G935V Build/NRD90M</td>\n",
       "    </tr>\n",
       "    <tr>\n",
       "      <td>139425</td>\n",
       "      <td>3551838</td>\n",
       "      <td>-5.0</td>\n",
       "      <td>515934.0</td>\n",
       "      <td>0.0</td>\n",
       "      <td>0.0</td>\n",
       "      <td>0.0</td>\n",
       "      <td>0.0</td>\n",
       "      <td>NaN</td>\n",
       "      <td>NaN</td>\n",
       "      <td>0.0</td>\n",
       "      <td>...</td>\n",
       "      <td>chrome 66.0 for android</td>\n",
       "      <td>NaN</td>\n",
       "      <td>NaN</td>\n",
       "      <td>NaN</td>\n",
       "      <td>F</td>\n",
       "      <td>F</td>\n",
       "      <td>T</td>\n",
       "      <td>F</td>\n",
       "      <td>mobile</td>\n",
       "      <td>M4</td>\n",
       "    </tr>\n",
       "  </tbody>\n",
       "</table>\n",
       "<p>5 rows × 41 columns</p>\n",
       "</div>"
      ],
      "text/plain": [
       "        TransactionID  id_01     id_02  id_03  id_04  id_05  id_06  id_07  \\\n",
       "52322         3103952   -5.0  161810.0    NaN    NaN    0.0    0.0    NaN   \n",
       "134796        3532306  -15.0  360853.0    NaN    NaN    0.0    0.0    NaN   \n",
       "50909         3101721  -15.0       NaN    NaN    NaN    NaN    NaN    NaN   \n",
       "46478         3095540   -5.0  160674.0    0.0    0.0    0.0    0.0    NaN   \n",
       "139425        3551838   -5.0  515934.0    0.0    0.0    0.0    0.0    NaN   \n",
       "\n",
       "        id_08  id_09  ...                    id_31  id_32      id_33  \\\n",
       "52322     NaN    NaN  ...       mobile safari 11.0   32.0   1334x750   \n",
       "134796    NaN    NaN  ...  chrome 63.0 for android    NaN        NaN   \n",
       "50909     NaN    NaN  ...                      NaN    NaN        NaN   \n",
       "46478     NaN    0.0  ...  chrome 63.0 for android   32.0  1920x1080   \n",
       "139425    NaN    0.0  ...  chrome 66.0 for android    NaN        NaN   \n",
       "\n",
       "                 id_34  id_35 id_36 id_37  id_38  DeviceType  \\\n",
       "52322   match_status:1      T     F     F      F      mobile   \n",
       "134796             NaN      F     F     T      F      mobile   \n",
       "50909              NaN    NaN   NaN   NaN    NaN         NaN   \n",
       "46478   match_status:2      T     F     T      F      mobile   \n",
       "139425             NaN      F     F     T      F      mobile   \n",
       "\n",
       "                   DeviceInfo  \n",
       "52322              iOS Device  \n",
       "134796              SM-G900FD  \n",
       "50909                     NaN  \n",
       "46478   SM-G935V Build/NRD90M  \n",
       "139425                     M4  \n",
       "\n",
       "[5 rows x 41 columns]"
      ]
     },
     "execution_count": 6,
     "metadata": {},
     "output_type": "execute_result"
    }
   ],
   "source": [
    "identify_df.sample(5)"
   ]
  },
  {
   "cell_type": "markdown",
   "metadata": {
    "heading_collapsed": true,
    "hidden": true
   },
   "source": [
    "### 1.2 Concatenate dataframes\n",
    "\n",
    "Reason: _I will consider all features available to me: ones specific to the user identity and the ones specific to the properties of a transaction_"
   ]
  },
  {
   "cell_type": "code",
   "execution_count": 7,
   "metadata": {
    "ExecuteTime": {
     "end_time": "2019-09-17T09:08:27.320023Z",
     "start_time": "2019-09-17T09:08:27.140079Z"
    },
    "hidden": true
   },
   "outputs": [
    {
     "data": {
      "text/plain": [
       "array([2987000, 2987001, 2987002, ..., 3577537, 3577538, 3577539],\n",
       "      dtype=int64)"
      ]
     },
     "execution_count": 7,
     "metadata": {},
     "output_type": "execute_result"
    }
   ],
   "source": [
    "transaction_df[\"TransactionID\"].unique()"
   ]
  },
  {
   "cell_type": "code",
   "execution_count": 8,
   "metadata": {
    "ExecuteTime": {
     "end_time": "2019-09-17T09:08:27.511512Z",
     "start_time": "2019-09-17T09:08:27.321021Z"
    },
    "hidden": true
   },
   "outputs": [
    {
     "data": {
      "text/plain": [
       "array([2987004, 2987008, 2987010, ..., 3577529, 3577531, 3577534],\n",
       "      dtype=int64)"
      ]
     },
     "execution_count": 8,
     "metadata": {},
     "output_type": "execute_result"
    }
   ],
   "source": [
    "identify_df[\"TransactionID\"].unique()"
   ]
  },
  {
   "cell_type": "code",
   "execution_count": 9,
   "metadata": {
    "ExecuteTime": {
     "end_time": "2019-09-17T09:08:27.688628Z",
     "start_time": "2019-09-17T09:08:27.512509Z"
    },
    "hidden": true
   },
   "outputs": [],
   "source": [
    "transaction_df.set_index(\"TransactionID\", inplace = True)\n",
    "identify_df.set_index(\"TransactionID\", inplace = True)"
   ]
  },
  {
   "cell_type": "code",
   "execution_count": 10,
   "metadata": {
    "ExecuteTime": {
     "end_time": "2019-09-17T09:08:29.931390Z",
     "start_time": "2019-09-17T09:08:27.689627Z"
    },
    "hidden": true
   },
   "outputs": [],
   "source": [
    "df = pd.concat([transaction_df, identify_df], axis = 1, join = \"inner\")"
   ]
  },
  {
   "cell_type": "code",
   "execution_count": 11,
   "metadata": {
    "ExecuteTime": {
     "end_time": "2019-09-17T09:08:30.094660Z",
     "start_time": "2019-09-17T09:08:29.932361Z"
    },
    "hidden": true
   },
   "outputs": [
    {
     "data": {
      "text/plain": [
       "(144233, 433)"
      ]
     },
     "execution_count": 11,
     "metadata": {},
     "output_type": "execute_result"
    }
   ],
   "source": [
    "df.shape"
   ]
  },
  {
   "cell_type": "code",
   "execution_count": 12,
   "metadata": {
    "ExecuteTime": {
     "end_time": "2019-09-17T09:08:30.253395Z",
     "start_time": "2019-09-17T09:08:30.095629Z"
    },
    "hidden": true
   },
   "outputs": [
    {
     "data": {
      "text/plain": [
       "Index(['isFraud', 'TransactionDT', 'TransactionAmt', 'ProductCD', 'card1',\n",
       "       'card2', 'card3', 'card4', 'card5', 'card6',\n",
       "       ...\n",
       "       'id_31', 'id_32', 'id_33', 'id_34', 'id_35', 'id_36', 'id_37', 'id_38',\n",
       "       'DeviceType', 'DeviceInfo'],\n",
       "      dtype='object', length=433)"
      ]
     },
     "execution_count": 12,
     "metadata": {},
     "output_type": "execute_result"
    }
   ],
   "source": [
    "df.columns"
   ]
  },
  {
   "cell_type": "code",
   "execution_count": 13,
   "metadata": {
    "ExecuteTime": {
     "end_time": "2019-09-17T09:08:30.799971Z",
     "start_time": "2019-09-17T09:08:30.254370Z"
    },
    "hidden": true
   },
   "outputs": [
    {
     "data": {
      "text/html": [
       "<div>\n",
       "<style scoped>\n",
       "    .dataframe tbody tr th:only-of-type {\n",
       "        vertical-align: middle;\n",
       "    }\n",
       "\n",
       "    .dataframe tbody tr th {\n",
       "        vertical-align: top;\n",
       "    }\n",
       "\n",
       "    .dataframe thead th {\n",
       "        text-align: right;\n",
       "    }\n",
       "</style>\n",
       "<table border=\"1\" class=\"dataframe\">\n",
       "  <thead>\n",
       "    <tr style=\"text-align: right;\">\n",
       "      <th></th>\n",
       "      <th>isFraud</th>\n",
       "      <th>TransactionDT</th>\n",
       "      <th>TransactionAmt</th>\n",
       "      <th>ProductCD</th>\n",
       "      <th>card1</th>\n",
       "      <th>card2</th>\n",
       "      <th>card3</th>\n",
       "      <th>card4</th>\n",
       "      <th>card5</th>\n",
       "      <th>card6</th>\n",
       "      <th>...</th>\n",
       "      <th>id_31</th>\n",
       "      <th>id_32</th>\n",
       "      <th>id_33</th>\n",
       "      <th>id_34</th>\n",
       "      <th>id_35</th>\n",
       "      <th>id_36</th>\n",
       "      <th>id_37</th>\n",
       "      <th>id_38</th>\n",
       "      <th>DeviceType</th>\n",
       "      <th>DeviceInfo</th>\n",
       "    </tr>\n",
       "    <tr>\n",
       "      <th>TransactionID</th>\n",
       "      <th></th>\n",
       "      <th></th>\n",
       "      <th></th>\n",
       "      <th></th>\n",
       "      <th></th>\n",
       "      <th></th>\n",
       "      <th></th>\n",
       "      <th></th>\n",
       "      <th></th>\n",
       "      <th></th>\n",
       "      <th></th>\n",
       "      <th></th>\n",
       "      <th></th>\n",
       "      <th></th>\n",
       "      <th></th>\n",
       "      <th></th>\n",
       "      <th></th>\n",
       "      <th></th>\n",
       "      <th></th>\n",
       "      <th></th>\n",
       "      <th></th>\n",
       "    </tr>\n",
       "  </thead>\n",
       "  <tbody>\n",
       "    <tr>\n",
       "      <td>3316336</td>\n",
       "      <td>1</td>\n",
       "      <td>8105987</td>\n",
       "      <td>18.670</td>\n",
       "      <td>C</td>\n",
       "      <td>14276</td>\n",
       "      <td>177.0</td>\n",
       "      <td>185.0</td>\n",
       "      <td>mastercard</td>\n",
       "      <td>137.0</td>\n",
       "      <td>credit</td>\n",
       "      <td>...</td>\n",
       "      <td>mobile safari generic</td>\n",
       "      <td>NaN</td>\n",
       "      <td>NaN</td>\n",
       "      <td>NaN</td>\n",
       "      <td>F</td>\n",
       "      <td>F</td>\n",
       "      <td>F</td>\n",
       "      <td>F</td>\n",
       "      <td>mobile</td>\n",
       "      <td>NaN</td>\n",
       "    </tr>\n",
       "    <tr>\n",
       "      <td>3495274</td>\n",
       "      <td>0</td>\n",
       "      <td>13306547</td>\n",
       "      <td>24.838</td>\n",
       "      <td>C</td>\n",
       "      <td>1976</td>\n",
       "      <td>545.0</td>\n",
       "      <td>185.0</td>\n",
       "      <td>visa</td>\n",
       "      <td>102.0</td>\n",
       "      <td>credit</td>\n",
       "      <td>...</td>\n",
       "      <td>chrome generic</td>\n",
       "      <td>NaN</td>\n",
       "      <td>NaN</td>\n",
       "      <td>NaN</td>\n",
       "      <td>F</td>\n",
       "      <td>F</td>\n",
       "      <td>T</td>\n",
       "      <td>F</td>\n",
       "      <td>desktop</td>\n",
       "      <td>NaN</td>\n",
       "    </tr>\n",
       "    <tr>\n",
       "      <td>3553412</td>\n",
       "      <td>0</td>\n",
       "      <td>15017335</td>\n",
       "      <td>150.000</td>\n",
       "      <td>R</td>\n",
       "      <td>5465</td>\n",
       "      <td>418.0</td>\n",
       "      <td>150.0</td>\n",
       "      <td>mastercard</td>\n",
       "      <td>203.0</td>\n",
       "      <td>credit</td>\n",
       "      <td>...</td>\n",
       "      <td>chrome 66.0</td>\n",
       "      <td>24.0</td>\n",
       "      <td>1366x768</td>\n",
       "      <td>match_status:2</td>\n",
       "      <td>T</td>\n",
       "      <td>F</td>\n",
       "      <td>T</td>\n",
       "      <td>F</td>\n",
       "      <td>desktop</td>\n",
       "      <td>Windows</td>\n",
       "    </tr>\n",
       "    <tr>\n",
       "      <td>3565787</td>\n",
       "      <td>0</td>\n",
       "      <td>15425138</td>\n",
       "      <td>250.000</td>\n",
       "      <td>R</td>\n",
       "      <td>4425</td>\n",
       "      <td>562.0</td>\n",
       "      <td>150.0</td>\n",
       "      <td>mastercard</td>\n",
       "      <td>197.0</td>\n",
       "      <td>credit</td>\n",
       "      <td>...</td>\n",
       "      <td>mobile safari 11.0</td>\n",
       "      <td>32.0</td>\n",
       "      <td>2048x1536</td>\n",
       "      <td>match_status:1</td>\n",
       "      <td>T</td>\n",
       "      <td>F</td>\n",
       "      <td>F</td>\n",
       "      <td>F</td>\n",
       "      <td>mobile</td>\n",
       "      <td>iOS Device</td>\n",
       "    </tr>\n",
       "    <tr>\n",
       "      <td>3098841</td>\n",
       "      <td>0</td>\n",
       "      <td>2175255</td>\n",
       "      <td>12.709</td>\n",
       "      <td>C</td>\n",
       "      <td>18093</td>\n",
       "      <td>500.0</td>\n",
       "      <td>185.0</td>\n",
       "      <td>mastercard</td>\n",
       "      <td>224.0</td>\n",
       "      <td>credit</td>\n",
       "      <td>...</td>\n",
       "      <td>safari generic</td>\n",
       "      <td>NaN</td>\n",
       "      <td>NaN</td>\n",
       "      <td>NaN</td>\n",
       "      <td>F</td>\n",
       "      <td>F</td>\n",
       "      <td>F</td>\n",
       "      <td>T</td>\n",
       "      <td>desktop</td>\n",
       "      <td>NaN</td>\n",
       "    </tr>\n",
       "  </tbody>\n",
       "</table>\n",
       "<p>5 rows × 433 columns</p>\n",
       "</div>"
      ],
      "text/plain": [
       "               isFraud  TransactionDT  TransactionAmt ProductCD  card1  card2  \\\n",
       "TransactionID                                                                   \n",
       "3316336              1        8105987          18.670         C  14276  177.0   \n",
       "3495274              0       13306547          24.838         C   1976  545.0   \n",
       "3553412              0       15017335         150.000         R   5465  418.0   \n",
       "3565787              0       15425138         250.000         R   4425  562.0   \n",
       "3098841              0        2175255          12.709         C  18093  500.0   \n",
       "\n",
       "               card3       card4  card5   card6  ...                  id_31  \\\n",
       "TransactionID                                    ...                          \n",
       "3316336        185.0  mastercard  137.0  credit  ...  mobile safari generic   \n",
       "3495274        185.0        visa  102.0  credit  ...         chrome generic   \n",
       "3553412        150.0  mastercard  203.0  credit  ...            chrome 66.0   \n",
       "3565787        150.0  mastercard  197.0  credit  ...     mobile safari 11.0   \n",
       "3098841        185.0  mastercard  224.0  credit  ...         safari generic   \n",
       "\n",
       "               id_32      id_33           id_34 id_35 id_36  id_37  id_38  \\\n",
       "TransactionID                                                               \n",
       "3316336          NaN        NaN             NaN     F     F      F      F   \n",
       "3495274          NaN        NaN             NaN     F     F      T      F   \n",
       "3553412         24.0   1366x768  match_status:2     T     F      T      F   \n",
       "3565787         32.0  2048x1536  match_status:1     T     F      F      F   \n",
       "3098841          NaN        NaN             NaN     F     F      F      T   \n",
       "\n",
       "               DeviceType  DeviceInfo  \n",
       "TransactionID                          \n",
       "3316336            mobile         NaN  \n",
       "3495274           desktop         NaN  \n",
       "3553412           desktop     Windows  \n",
       "3565787            mobile  iOS Device  \n",
       "3098841           desktop         NaN  \n",
       "\n",
       "[5 rows x 433 columns]"
      ]
     },
     "execution_count": 13,
     "metadata": {},
     "output_type": "execute_result"
    }
   ],
   "source": [
    "df.sample(5)"
   ]
  },
  {
   "cell_type": "markdown",
   "metadata": {
    "heading_collapsed": true,
    "hidden": true
   },
   "source": [
    "### 1.3 Class distribution and Sampling fix"
   ]
  },
  {
   "cell_type": "code",
   "execution_count": 14,
   "metadata": {
    "ExecuteTime": {
     "end_time": "2019-09-17T09:08:30.979874Z",
     "start_time": "2019-09-17T09:08:30.800969Z"
    },
    "hidden": true
   },
   "outputs": [
    {
     "data": {
      "text/plain": [
       "0    132915\n",
       "1     11318\n",
       "Name: isFraud, dtype: int64"
      ]
     },
     "execution_count": 14,
     "metadata": {},
     "output_type": "execute_result"
    }
   ],
   "source": [
    "df[\"isFraud\"].value_counts()"
   ]
  },
  {
   "cell_type": "markdown",
   "metadata": {
    "hidden": true
   },
   "source": [
    "_The dataset is massively imbalanced. I will use `imblearn.under_sampling.RandomUnderSampler` to fix this issue. And yes, I am aware that I am purposely losing data_"
   ]
  },
  {
   "cell_type": "code",
   "execution_count": 15,
   "metadata": {
    "ExecuteTime": {
     "end_time": "2019-09-17T09:08:31.371529Z",
     "start_time": "2019-09-17T09:08:30.980865Z"
    },
    "hidden": true
   },
   "outputs": [],
   "source": [
    "X = df.drop(\"isFraud\", axis = 1)\n",
    "Y = df[\"isFraud\"]"
   ]
  },
  {
   "cell_type": "code",
   "execution_count": 16,
   "metadata": {
    "ExecuteTime": {
     "end_time": "2019-09-17T09:08:31.795839Z",
     "start_time": "2019-09-17T09:08:31.372482Z"
    },
    "hidden": true
   },
   "outputs": [],
   "source": [
    "na_count = X.isna().sum()\n",
    "n_observations = X.shape[0]"
   ]
  },
  {
   "cell_type": "markdown",
   "metadata": {
    "hidden": true
   },
   "source": [
    "_I eliminate columns where there are more than `25%` NA values of the total number of observations_"
   ]
  },
  {
   "cell_type": "code",
   "execution_count": 17,
   "metadata": {
    "ExecuteTime": {
     "end_time": "2019-09-17T09:08:32.440503Z",
     "start_time": "2019-09-17T09:08:31.796836Z"
    },
    "hidden": true
   },
   "outputs": [],
   "source": [
    "X.dropna(thresh = int(0.75 * n_observations), axis = 1, inplace = True)"
   ]
  },
  {
   "cell_type": "code",
   "execution_count": 18,
   "metadata": {
    "ExecuteTime": {
     "end_time": "2019-09-17T09:08:32.748390Z",
     "start_time": "2019-09-17T09:08:32.441472Z"
    },
    "hidden": true
   },
   "outputs": [],
   "source": [
    "X.fillna(value = 0, inplace = True)"
   ]
  },
  {
   "cell_type": "code",
   "execution_count": 19,
   "metadata": {
    "ExecuteTime": {
     "end_time": "2019-09-17T09:08:32.919007Z",
     "start_time": "2019-09-17T09:08:32.749387Z"
    },
    "hidden": true
   },
   "outputs": [],
   "source": [
    "columns = X.columns"
   ]
  },
  {
   "cell_type": "markdown",
   "metadata": {
    "hidden": true
   },
   "source": [
    "_I perform Random Under-Sampling from the majority class_"
   ]
  },
  {
   "cell_type": "code",
   "execution_count": 20,
   "metadata": {
    "ExecuteTime": {
     "end_time": "2019-09-17T09:08:36.416410Z",
     "start_time": "2019-09-17T09:08:32.919961Z"
    },
    "hidden": true
   },
   "outputs": [],
   "source": [
    "from imblearn.under_sampling import RandomUnderSampler\n",
    "\n",
    "sampler = RandomUnderSampler(random_state = 42)\n",
    "X, Y = sampler.fit_sample(X, Y)"
   ]
  },
  {
   "cell_type": "code",
   "execution_count": 21,
   "metadata": {
    "ExecuteTime": {
     "end_time": "2019-09-17T09:08:36.616882Z",
     "start_time": "2019-09-17T09:08:36.417384Z"
    },
    "hidden": true
   },
   "outputs": [
    {
     "data": {
      "text/plain": [
       "((22636, 245), (22636,))"
      ]
     },
     "execution_count": 21,
     "metadata": {},
     "output_type": "execute_result"
    }
   ],
   "source": [
    "X.shape, Y.shape"
   ]
  },
  {
   "cell_type": "markdown",
   "metadata": {
    "hidden": true
   },
   "source": [
    "_Instead of working with such a large dataset, let's work with a subset randomly sampled from `X` and `Y`_"
   ]
  },
  {
   "cell_type": "markdown",
   "metadata": {
    "hidden": true
   },
   "source": [
    "_The returned variables from `sampler` are numpy matrices. I still need `X` as a `pd.DataFrame` to perform descriptive analyses_"
   ]
  },
  {
   "cell_type": "code",
   "execution_count": 22,
   "metadata": {
    "ExecuteTime": {
     "end_time": "2019-09-17T09:08:37.594328Z",
     "start_time": "2019-09-17T09:08:36.617848Z"
    },
    "hidden": true
   },
   "outputs": [],
   "source": [
    "X = pd.DataFrame(X)\n",
    "X.columns = columns\n",
    "\n",
    "X[\"isFraud\"] = Y\n",
    "X = X.sample(int(0.3 * X.shape[0]))\n",
    "\n",
    "Y = X[\"isFraud\"]\n",
    "X = X.drop(\"isFraud\", axis = 1)"
   ]
  },
  {
   "cell_type": "code",
   "execution_count": 23,
   "metadata": {
    "ExecuteTime": {
     "end_time": "2019-09-17T09:08:37.802492Z",
     "start_time": "2019-09-17T09:08:37.597320Z"
    },
    "hidden": true
   },
   "outputs": [
    {
     "data": {
      "text/plain": [
       "0    3414\n",
       "1    3376\n",
       "Name: isFraud, dtype: int64"
      ]
     },
     "execution_count": 23,
     "metadata": {},
     "output_type": "execute_result"
    }
   ],
   "source": [
    "Y.value_counts()"
   ]
  },
  {
   "cell_type": "markdown",
   "metadata": {
    "heading_collapsed": true,
    "hidden": true
   },
   "source": [
    "### 1.4 Column-wise analysis"
   ]
  },
  {
   "cell_type": "code",
   "execution_count": 24,
   "metadata": {
    "ExecuteTime": {
     "end_time": "2019-09-17T09:08:37.997100Z",
     "start_time": "2019-09-17T09:08:37.803467Z"
    },
    "hidden": true
   },
   "outputs": [],
   "source": [
    "columns_to_be_dropped_after_analysis = []"
   ]
  },
  {
   "cell_type": "markdown",
   "metadata": {
    "heading_collapsed": true,
    "hidden": true
   },
   "source": [
    "#### 1.4.1 Assumption = `TransactionDT` and `DeviceInfo` are not required"
   ]
  },
  {
   "cell_type": "code",
   "execution_count": 25,
   "metadata": {
    "ExecuteTime": {
     "end_time": "2019-09-17T09:08:38.193572Z",
     "start_time": "2019-09-17T09:08:37.998065Z"
    },
    "hidden": true
   },
   "outputs": [
    {
     "data": {
      "text/plain": [
       "['TransactionDT', 'DeviceInfo']"
      ]
     },
     "execution_count": 25,
     "metadata": {},
     "output_type": "execute_result"
    }
   ],
   "source": [
    "columns_to_be_dropped_after_analysis.extend([\"TransactionDT\", \"DeviceInfo\"])\n",
    "columns_to_be_dropped_after_analysis"
   ]
  },
  {
   "cell_type": "markdown",
   "metadata": {
    "heading_collapsed": true,
    "hidden": true
   },
   "source": [
    "#### 1.4.2 `ProductCD`"
   ]
  },
  {
   "cell_type": "code",
   "execution_count": 26,
   "metadata": {
    "ExecuteTime": {
     "end_time": "2019-09-17T09:08:38.395505Z",
     "start_time": "2019-09-17T09:08:38.194540Z"
    },
    "hidden": true
   },
   "outputs": [
    {
     "data": {
      "text/plain": [
       "C    3632\n",
       "R    1370\n",
       "H    1302\n",
       "S     486\n",
       "Name: ProductCD, dtype: int64"
      ]
     },
     "execution_count": 26,
     "metadata": {},
     "output_type": "execute_result"
    }
   ],
   "source": [
    "X[\"ProductCD\"].value_counts()"
   ]
  },
  {
   "cell_type": "code",
   "execution_count": 27,
   "metadata": {
    "ExecuteTime": {
     "end_time": "2019-09-17T09:08:38.593522Z",
     "start_time": "2019-09-17T09:08:38.396499Z"
    },
    "hidden": true
   },
   "outputs": [],
   "source": [
    "temp = pd.get_dummies(X[\"ProductCD\"])\n",
    "temp[\"isFraud\"] = Y"
   ]
  },
  {
   "cell_type": "code",
   "execution_count": 28,
   "metadata": {
    "ExecuteTime": {
     "end_time": "2019-09-17T09:08:38.960144Z",
     "start_time": "2019-09-17T09:08:38.594497Z"
    },
    "hidden": true
   },
   "outputs": [
    {
     "data": {
      "image/png": "[encoded data removed]",
      "text/plain": [
       "<Figure size 648x504 with 2 Axes>"
      ]
     },
     "metadata": {
      "needs_background": "light"
     },
     "output_type": "display_data"
    }
   ],
   "source": [
    "# plot strength of correlation ( = R^2) as a percentage\n",
    "plt.rcParams['figure.figsize'] = 9, 7\n",
    "sns.heatmap(temp.corr() ** 2 * 100, annot = True, fmt = \"g\", cmap = 'viridis')\n",
    "plt.show()"
   ]
  },
  {
   "cell_type": "code",
   "execution_count": 29,
   "metadata": {
    "ExecuteTime": {
     "end_time": "2019-09-17T09:08:39.162602Z",
     "start_time": "2019-09-17T09:08:38.961113Z"
    },
    "hidden": true
   },
   "outputs": [
    {
     "data": {
      "text/plain": [
       "2"
      ]
     },
     "execution_count": 29,
     "metadata": {},
     "output_type": "execute_result"
    }
   ],
   "source": [
    "corr_matrix = temp.corr() ** 2 * 100\n",
    "\n",
    "# Select upper triangle of correlation matrix\n",
    "upper = corr_matrix.where(np.triu(np.ones(corr_matrix.shape), k = 1).astype(np.bool))\n",
    "\n",
    "# Find index of feature columns with correlation greater than 25%\n",
    "to_drop = [\"ProductCD_\" + column for column in upper.columns if any(upper[column] > 25)]\n",
    "\n",
    "# how many variables can we drop\n",
    "len(to_drop)"
   ]
  },
  {
   "cell_type": "code",
   "execution_count": 30,
   "metadata": {
    "ExecuteTime": {
     "end_time": "2019-09-17T09:08:39.361045Z",
     "start_time": "2019-09-17T09:08:39.163573Z"
    },
    "hidden": true
   },
   "outputs": [
    {
     "name": "stdout",
     "output_type": "stream",
     "text": [
      "['TransactionDT', 'DeviceInfo', 'ProductCD_H', 'ProductCD_R']\n"
     ]
    }
   ],
   "source": [
    "columns_to_be_dropped_after_analysis.extend(to_drop)\n",
    "print(columns_to_be_dropped_after_analysis)"
   ]
  },
  {
   "cell_type": "code",
   "execution_count": 31,
   "metadata": {
    "ExecuteTime": {
     "end_time": "2019-09-17T09:08:39.641320Z",
     "start_time": "2019-09-17T09:08:39.362042Z"
    },
    "hidden": true
   },
   "outputs": [],
   "source": [
    "X = pd.get_dummies(X, columns = [\"ProductCD\"])"
   ]
  },
  {
   "cell_type": "markdown",
   "metadata": {
    "heading_collapsed": true,
    "hidden": true
   },
   "source": [
    "#### 1.4.3 `cardxx` variables"
   ]
  },
  {
   "cell_type": "code",
   "execution_count": 32,
   "metadata": {
    "ExecuteTime": {
     "end_time": "2019-09-17T09:08:39.836928Z",
     "start_time": "2019-09-17T09:08:39.642318Z"
    },
    "hidden": true
   },
   "outputs": [],
   "source": [
    "card_variables = [\"card\" + str(i + 1) for i in range(6)]"
   ]
  },
  {
   "cell_type": "code",
   "execution_count": 33,
   "metadata": {
    "ExecuteTime": {
     "end_time": "2019-09-17T09:08:40.081462Z",
     "start_time": "2019-09-17T09:08:39.837598Z"
    },
    "hidden": true
   },
   "outputs": [
    {
     "data": {
      "text/html": [
       "<div>\n",
       "<style scoped>\n",
       "    .dataframe tbody tr th:only-of-type {\n",
       "        vertical-align: middle;\n",
       "    }\n",
       "\n",
       "    .dataframe tbody tr th {\n",
       "        vertical-align: top;\n",
       "    }\n",
       "\n",
       "    .dataframe thead th {\n",
       "        text-align: right;\n",
       "    }\n",
       "</style>\n",
       "<table border=\"1\" class=\"dataframe\">\n",
       "  <thead>\n",
       "    <tr style=\"text-align: right;\">\n",
       "      <th></th>\n",
       "      <th>card1</th>\n",
       "      <th>card2</th>\n",
       "      <th>card3</th>\n",
       "      <th>card4</th>\n",
       "      <th>card5</th>\n",
       "      <th>card6</th>\n",
       "    </tr>\n",
       "  </thead>\n",
       "  <tbody>\n",
       "    <tr>\n",
       "      <td>10601</td>\n",
       "      <td>15885</td>\n",
       "      <td>545</td>\n",
       "      <td>185</td>\n",
       "      <td>visa</td>\n",
       "      <td>138</td>\n",
       "      <td>debit</td>\n",
       "    </tr>\n",
       "    <tr>\n",
       "      <td>13969</td>\n",
       "      <td>9026</td>\n",
       "      <td>545</td>\n",
       "      <td>185</td>\n",
       "      <td>visa</td>\n",
       "      <td>137</td>\n",
       "      <td>credit</td>\n",
       "    </tr>\n",
       "    <tr>\n",
       "      <td>8229</td>\n",
       "      <td>8503</td>\n",
       "      <td>583</td>\n",
       "      <td>150</td>\n",
       "      <td>visa</td>\n",
       "      <td>226</td>\n",
       "      <td>credit</td>\n",
       "    </tr>\n",
       "    <tr>\n",
       "      <td>15073</td>\n",
       "      <td>1724</td>\n",
       "      <td>583</td>\n",
       "      <td>150</td>\n",
       "      <td>visa</td>\n",
       "      <td>226</td>\n",
       "      <td>credit</td>\n",
       "    </tr>\n",
       "    <tr>\n",
       "      <td>10726</td>\n",
       "      <td>13413</td>\n",
       "      <td>103</td>\n",
       "      <td>185</td>\n",
       "      <td>visa</td>\n",
       "      <td>137</td>\n",
       "      <td>credit</td>\n",
       "    </tr>\n",
       "  </tbody>\n",
       "</table>\n",
       "</div>"
      ],
      "text/plain": [
       "       card1 card2 card3 card4 card5   card6\n",
       "10601  15885   545   185  visa   138   debit\n",
       "13969   9026   545   185  visa   137  credit\n",
       "8229    8503   583   150  visa   226  credit\n",
       "15073   1724   583   150  visa   226  credit\n",
       "10726  13413   103   185  visa   137  credit"
      ]
     },
     "execution_count": 33,
     "metadata": {},
     "output_type": "execute_result"
    }
   ],
   "source": [
    "X[card_variables].sample(5)"
   ]
  },
  {
   "cell_type": "code",
   "execution_count": 34,
   "metadata": {
    "ExecuteTime": {
     "end_time": "2019-09-17T09:08:40.302430Z",
     "start_time": "2019-09-17T09:08:40.082435Z"
    },
    "hidden": true
   },
   "outputs": [
    {
     "name": "stdout",
     "output_type": "stream",
     "text": [
      "card1 has 1477 unique values\n",
      "card2 has 271 unique values\n",
      "[has 87 '0's as a class]\n",
      "\n",
      "card3 has 58 unique values\n",
      "[has 6 '0's as a class]\n",
      "\n",
      "card4 has 5 unique values\n",
      "[has 6 '0's as a class]\n",
      "\n",
      "card5 has 57 unique values\n",
      "[has 41 '0's as a class]\n",
      "\n",
      "card6 has 3 unique values\n",
      "[has 6 '0's as a class]\n",
      "\n"
     ]
    }
   ],
   "source": [
    "for column in card_variables:\n",
    "    value_counts = X[column].value_counts()\n",
    "    print(\"%s has %i unique values\" % (column, len(value_counts)))\n",
    "    if 0 in value_counts.index:\n",
    "        print(\"[has %i '0's as a class]\\n\" % value_counts[0])"
   ]
  },
  {
   "cell_type": "code",
   "execution_count": 35,
   "metadata": {
    "ExecuteTime": {
     "end_time": "2019-09-17T09:08:40.507861Z",
     "start_time": "2019-09-17T09:08:40.303428Z"
    },
    "hidden": true
   },
   "outputs": [
    {
     "data": {
      "text/plain": [
       "visa                4206\n",
       "mastercard          2182\n",
       "american express     302\n",
       "discover              94\n",
       "0                      6\n",
       "Name: card4, dtype: int64"
      ]
     },
     "execution_count": 35,
     "metadata": {},
     "output_type": "execute_result"
    }
   ],
   "source": [
    "X[\"card4\"].value_counts()"
   ]
  },
  {
   "cell_type": "code",
   "execution_count": 36,
   "metadata": {
    "ExecuteTime": {
     "end_time": "2019-09-17T09:08:41.216331Z",
     "start_time": "2019-09-17T09:08:40.508859Z"
    },
    "hidden": true
   },
   "outputs": [
    {
     "data": {
      "image/png": "[encoded data removed]",
      "text/plain": [
       "<Figure size 1296x216 with 1 Axes>"
      ]
     },
     "metadata": {
      "needs_background": "light"
     },
     "output_type": "display_data"
    }
   ],
   "source": [
    "plt.rcParams['figure.figsize'] = 18,  3\n",
    "X[\"card5\"].value_counts().plot(kind = \"bar\")\n",
    "plt.show()"
   ]
  },
  {
   "cell_type": "code",
   "execution_count": 37,
   "metadata": {
    "ExecuteTime": {
     "end_time": "2019-09-17T09:08:41.540468Z",
     "start_time": "2019-09-17T09:08:41.217329Z"
    },
    "hidden": true
   },
   "outputs": [],
   "source": [
    "temp = X.copy(deep = True)\n",
    "temp[\"isFraud\"] = Y\n",
    "\n",
    "temp = temp.query(\"card2 != 0 and card3 != 0 and card4 != 0 and card5 != 0 and card6 != 0\")\n",
    "\n",
    "Y = temp[\"isFraud\"]\n",
    "X = temp.drop(\"isFraud\", axis = 1)"
   ]
  },
  {
   "cell_type": "markdown",
   "metadata": {
    "hidden": true
   },
   "source": [
    "_Too many dummy variables to sort out, So I leave this group be_"
   ]
  },
  {
   "cell_type": "code",
   "execution_count": 38,
   "metadata": {
    "ExecuteTime": {
     "end_time": "2019-09-17T09:08:41.869646Z",
     "start_time": "2019-09-17T09:08:41.541433Z"
    },
    "hidden": true
   },
   "outputs": [],
   "source": [
    "X = pd.get_dummies(X, columns = card_variables)"
   ]
  },
  {
   "cell_type": "markdown",
   "metadata": {
    "hidden": true
   },
   "source": [
    "#### 1.4.4 `P_emaildomain` and `R_emaildomain`"
   ]
  },
  {
   "cell_type": "code",
   "execution_count": 39,
   "metadata": {
    "ExecuteTime": {
     "end_time": "2019-09-17T09:08:42.447040Z",
     "start_time": "2019-09-17T09:08:41.870552Z"
    },
    "hidden": true
   },
   "outputs": [
    {
     "data": {
      "image/png": "[encoded data removed]",
      "text/plain": [
       "<Figure size 1296x144 with 1 Axes>"
      ]
     },
     "metadata": {
      "needs_background": "light"
     },
     "output_type": "display_data"
    }
   ],
   "source": [
    "plt.rcParams['figure.figsize'] = 18, 2\n",
    "X[\"P_emaildomain\"].value_counts().plot(kind = \"bar\")\n",
    "plt.show()"
   ]
  },
  {
   "cell_type": "code",
   "execution_count": 40,
   "metadata": {
    "ExecuteTime": {
     "end_time": "2019-09-17T09:08:43.025489Z",
     "start_time": "2019-09-17T09:08:42.448009Z"
    },
    "hidden": true
   },
   "outputs": [
    {
     "data": {
      "image/png": "[encoded data removed]",
      "text/plain": [
       "<Figure size 1296x144 with 1 Axes>"
      ]
     },
     "metadata": {
      "needs_background": "light"
     },
     "output_type": "display_data"
    }
   ],
   "source": [
    "plt.rcParams['figure.figsize'] = 18, 2\n",
    "X[\"R_emaildomain\"].value_counts().plot(kind = \"bar\")\n",
    "plt.show()"
   ]
  },
  {
   "cell_type": "markdown",
   "metadata": {
    "hidden": true
   },
   "source": [
    "_Let's see what correlations we get amongst these email domains and the response variable_"
   ]
  },
  {
   "cell_type": "code",
   "execution_count": 41,
   "metadata": {
    "ExecuteTime": {
     "end_time": "2019-09-17T09:08:43.260859Z",
     "start_time": "2019-09-17T09:08:43.026463Z"
    },
    "hidden": true
   },
   "outputs": [],
   "source": [
    "temp = pd.get_dummies(X[[\"P_emaildomain\", \"R_emaildomain\"]])"
   ]
  },
  {
   "cell_type": "code",
   "execution_count": 42,
   "metadata": {
    "ExecuteTime": {
     "end_time": "2019-09-17T09:08:43.648827Z",
     "start_time": "2019-09-17T09:08:43.261834Z"
    },
    "hidden": true
   },
   "outputs": [
    {
     "data": {
      "text/plain": [
       "29"
      ]
     },
     "execution_count": 42,
     "metadata": {},
     "output_type": "execute_result"
    }
   ],
   "source": [
    "corr_matrix = temp.corr() ** 2 * 100\n",
    "\n",
    "# Select upper triangle of correlation matrix\n",
    "upper = corr_matrix.where(np.triu(np.ones(corr_matrix.shape), k = 1).astype(np.bool))\n",
    "\n",
    "# Find index of feature columns with correlation greater than 25%\n",
    "to_drop = [column for column in upper.columns if any(upper[column] > 25)]\n",
    "\n",
    "# how many variables can we drop\n",
    "len(to_drop)"
   ]
  },
  {
   "cell_type": "code",
   "execution_count": 43,
   "metadata": {
    "ExecuteTime": {
     "end_time": "2019-09-17T09:08:43.845299Z",
     "start_time": "2019-09-17T09:08:43.649797Z"
    },
    "hidden": true
   },
   "outputs": [
    {
     "name": "stdout",
     "output_type": "stream",
     "text": [
      "['TransactionDT', 'DeviceInfo', 'ProductCD_H', 'ProductCD_R', 'R_emaildomain_aim.com', 'R_emaildomain_anonymous.com', 'R_emaildomain_att.net', 'R_emaildomain_cableone.net', 'R_emaildomain_cox.net', 'R_emaildomain_gmail', 'R_emaildomain_gmail.com', 'R_emaildomain_gmx.de', 'R_emaildomain_hotmail.co.uk', 'R_emaildomain_hotmail.com', 'R_emaildomain_hotmail.de', 'R_emaildomain_hotmail.es', 'R_emaildomain_hotmail.fr', 'R_emaildomain_icloud.com', 'R_emaildomain_juno.com', 'R_emaildomain_live.com', 'R_emaildomain_live.com.mx', 'R_emaildomain_live.fr', 'R_emaildomain_mail.com', 'R_emaildomain_outlook.com', 'R_emaildomain_outlook.es', 'R_emaildomain_rocketmail.com', 'R_emaildomain_servicios-ta.com', 'R_emaildomain_web.de', 'R_emaildomain_yahoo.com.mx', 'R_emaildomain_yahoo.de', 'R_emaildomain_yahoo.es', 'R_emaildomain_yahoo.fr', 'R_emaildomain_ymail.com']\n"
     ]
    }
   ],
   "source": [
    "columns_to_be_dropped_after_analysis.extend(to_drop)\n",
    "print(columns_to_be_dropped_after_analysis)"
   ]
  },
  {
   "cell_type": "code",
   "execution_count": 44,
   "metadata": {
    "ExecuteTime": {
     "end_time": "2019-09-17T09:08:44.141481Z",
     "start_time": "2019-09-17T09:08:43.846296Z"
    },
    "hidden": true,
    "scrolled": false
   },
   "outputs": [],
   "source": [
    "X = pd.get_dummies(X, columns = [\"P_emaildomain\", \"R_emaildomain\"])"
   ]
  },
  {
   "cell_type": "markdown",
   "metadata": {
    "heading_collapsed": true,
    "hidden": true
   },
   "source": [
    "#### 1.4.5 `C1` to `C14` | `D1`  to `D15` \n"
   ]
  },
  {
   "cell_type": "code",
   "execution_count": 45,
   "metadata": {
    "ExecuteTime": {
     "end_time": "2019-09-17T09:08:44.359913Z",
     "start_time": "2019-09-17T09:08:44.142479Z"
    },
    "hidden": true
   },
   "outputs": [
    {
     "data": {
      "text/plain": [
       "'C1 != 0 and C2 != 0 and C3 != 0 and C4 != 0 and C5 != 0 and C6 != 0 and C7 != 0 and C8 != 0 and C9 != 0 and C10 != 0 and C11 != 0 and C12 != 0 and C13 != 0 and C14 != 0'"
      ]
     },
     "execution_count": 45,
     "metadata": {},
     "output_type": "execute_result"
    }
   ],
   "source": [
    "generated_query = []\n",
    "\n",
    "for i in range(1, 15):\n",
    "    column_name = \"C\" + str(i)\n",
    "    if column_name in X.columns:\n",
    "        generated_query.append(column_name + \" != 0 and \")\n",
    "for i in range(1, 10):\n",
    "    column_name = \"M\" + str(i)\n",
    "    if column_name in X.columns:\n",
    "        generated_query.append(column_name + \" != 0 and \")\n",
    "\n",
    "generated_query = ''.join(generated_query)[:-5]\n",
    "generated_query"
   ]
  },
  {
   "cell_type": "code",
   "execution_count": 46,
   "metadata": {
    "ExecuteTime": {
     "end_time": "2019-09-17T09:08:44.637723Z",
     "start_time": "2019-09-17T09:08:44.360910Z"
    },
    "hidden": true,
    "scrolled": false
   },
   "outputs": [
    {
     "data": {
      "text/html": [
       "<div>\n",
       "<style scoped>\n",
       "    .dataframe tbody tr th:only-of-type {\n",
       "        vertical-align: middle;\n",
       "    }\n",
       "\n",
       "    .dataframe tbody tr th {\n",
       "        vertical-align: top;\n",
       "    }\n",
       "\n",
       "    .dataframe thead th {\n",
       "        text-align: right;\n",
       "    }\n",
       "</style>\n",
       "<table border=\"1\" class=\"dataframe\">\n",
       "  <thead>\n",
       "    <tr style=\"text-align: right;\">\n",
       "      <th></th>\n",
       "      <th>TransactionDT</th>\n",
       "      <th>TransactionAmt</th>\n",
       "      <th>C1</th>\n",
       "      <th>C2</th>\n",
       "      <th>C3</th>\n",
       "      <th>C4</th>\n",
       "      <th>C5</th>\n",
       "      <th>C6</th>\n",
       "      <th>C7</th>\n",
       "      <th>C8</th>\n",
       "      <th>...</th>\n",
       "      <th>R_emaildomain_verizon.net</th>\n",
       "      <th>R_emaildomain_web.de</th>\n",
       "      <th>R_emaildomain_windstream.net</th>\n",
       "      <th>R_emaildomain_yahoo.co.uk</th>\n",
       "      <th>R_emaildomain_yahoo.com</th>\n",
       "      <th>R_emaildomain_yahoo.com.mx</th>\n",
       "      <th>R_emaildomain_yahoo.de</th>\n",
       "      <th>R_emaildomain_yahoo.es</th>\n",
       "      <th>R_emaildomain_yahoo.fr</th>\n",
       "      <th>R_emaildomain_ymail.com</th>\n",
       "    </tr>\n",
       "  </thead>\n",
       "  <tbody>\n",
       "  </tbody>\n",
       "</table>\n",
       "<p>0 rows × 2175 columns</p>\n",
       "</div>"
      ],
      "text/plain": [
       "Empty DataFrame\n",
       "Columns: [TransactionDT, TransactionAmt, C1, C2, C3, C4, C5, C6, C7, C8, C9, C10, C11, C12, C13, C14, D1, V95, V96, V97, V98, V99, V100, V101, V102, V103, V104, V105, V106, V107, V108, V109, V110, V111, V112, V113, V114, V115, V116, V117, V118, V119, V120, V121, V122, V123, V124, V125, V126, V127, V128, V129, V130, V131, V132, V133, V134, V135, V136, V137, V167, V168, V169, V170, V171, V172, V173, V174, V175, V176, V177, V178, V179, V180, V181, V182, V183, V184, V185, V186, V187, V188, V189, V190, V191, V192, V193, V194, V195, V196, V197, V198, V199, V200, V201, V202, V203, V204, V205, V206, ...]\n",
       "Index: []\n",
       "\n",
       "[0 rows x 2175 columns]"
      ]
     },
     "execution_count": 46,
     "metadata": {},
     "output_type": "execute_result"
    }
   ],
   "source": [
    "# oops\n",
    "\n",
    "X.query(generated_query)"
   ]
  },
  {
   "cell_type": "code",
   "execution_count": 47,
   "metadata": {
    "ExecuteTime": {
     "end_time": "2019-09-17T09:08:44.849695Z",
     "start_time": "2019-09-17T09:08:44.638721Z"
    },
    "hidden": true
   },
   "outputs": [
    {
     "name": "stdout",
     "output_type": "stream",
     "text": [
      "['C1', 'C2', 'C3', 'C4', 'C5', 'C6', 'C7', 'C8', 'C9', 'C10', 'C11', 'C12', 'C13', 'C14', 'D1']\n"
     ]
    }
   ],
   "source": [
    "temp_corr_columns = []\n",
    "\n",
    "for i in range(1, 15):\n",
    "    column_name = \"C\" + str(i)\n",
    "    if column_name in X.columns:\n",
    "        temp_corr_columns.append(column_name)\n",
    "\n",
    "for i in range(1, 16):\n",
    "    column_name = \"D\" + str(i)\n",
    "    if column_name in X.columns:\n",
    "        temp_corr_columns.append(column_name)\n",
    "\n",
    "print(temp_corr_columns)"
   ]
  },
  {
   "cell_type": "code",
   "execution_count": 48,
   "metadata": {
    "ExecuteTime": {
     "end_time": "2019-09-17T09:08:45.070009Z",
     "start_time": "2019-09-17T09:08:44.850595Z"
    },
    "hidden": true
   },
   "outputs": [
    {
     "data": {
      "text/html": [
       "<div>\n",
       "<style scoped>\n",
       "    .dataframe tbody tr th:only-of-type {\n",
       "        vertical-align: middle;\n",
       "    }\n",
       "\n",
       "    .dataframe tbody tr th {\n",
       "        vertical-align: top;\n",
       "    }\n",
       "\n",
       "    .dataframe thead th {\n",
       "        text-align: right;\n",
       "    }\n",
       "</style>\n",
       "<table border=\"1\" class=\"dataframe\">\n",
       "  <thead>\n",
       "    <tr style=\"text-align: right;\">\n",
       "      <th></th>\n",
       "      <th>C1</th>\n",
       "      <th>C2</th>\n",
       "      <th>C3</th>\n",
       "      <th>C4</th>\n",
       "      <th>C5</th>\n",
       "      <th>C6</th>\n",
       "      <th>C7</th>\n",
       "      <th>C8</th>\n",
       "      <th>C9</th>\n",
       "      <th>C10</th>\n",
       "      <th>C11</th>\n",
       "      <th>C12</th>\n",
       "      <th>C13</th>\n",
       "      <th>C14</th>\n",
       "      <th>D1</th>\n",
       "      <th>isFraud</th>\n",
       "    </tr>\n",
       "  </thead>\n",
       "  <tbody>\n",
       "    <tr>\n",
       "      <td>5303</td>\n",
       "      <td>1</td>\n",
       "      <td>1</td>\n",
       "      <td>0</td>\n",
       "      <td>1</td>\n",
       "      <td>0</td>\n",
       "      <td>1</td>\n",
       "      <td>0</td>\n",
       "      <td>1</td>\n",
       "      <td>0</td>\n",
       "      <td>1</td>\n",
       "      <td>1</td>\n",
       "      <td>0</td>\n",
       "      <td>1</td>\n",
       "      <td>1</td>\n",
       "      <td>0</td>\n",
       "      <td>0.0</td>\n",
       "    </tr>\n",
       "    <tr>\n",
       "      <td>1208</td>\n",
       "      <td>1</td>\n",
       "      <td>1</td>\n",
       "      <td>0</td>\n",
       "      <td>1</td>\n",
       "      <td>0</td>\n",
       "      <td>1</td>\n",
       "      <td>1</td>\n",
       "      <td>1</td>\n",
       "      <td>0</td>\n",
       "      <td>1</td>\n",
       "      <td>1</td>\n",
       "      <td>1</td>\n",
       "      <td>1</td>\n",
       "      <td>1</td>\n",
       "      <td>0</td>\n",
       "      <td>0.0</td>\n",
       "    </tr>\n",
       "    <tr>\n",
       "      <td>1880</td>\n",
       "      <td>1</td>\n",
       "      <td>0</td>\n",
       "      <td>0</td>\n",
       "      <td>1</td>\n",
       "      <td>0</td>\n",
       "      <td>1</td>\n",
       "      <td>1</td>\n",
       "      <td>1</td>\n",
       "      <td>0</td>\n",
       "      <td>1</td>\n",
       "      <td>1</td>\n",
       "      <td>1</td>\n",
       "      <td>0</td>\n",
       "      <td>0</td>\n",
       "      <td>0</td>\n",
       "      <td>0.0</td>\n",
       "    </tr>\n",
       "    <tr>\n",
       "      <td>1640</td>\n",
       "      <td>1</td>\n",
       "      <td>1</td>\n",
       "      <td>0</td>\n",
       "      <td>1</td>\n",
       "      <td>0</td>\n",
       "      <td>1</td>\n",
       "      <td>0</td>\n",
       "      <td>1</td>\n",
       "      <td>0</td>\n",
       "      <td>1</td>\n",
       "      <td>1</td>\n",
       "      <td>0</td>\n",
       "      <td>1</td>\n",
       "      <td>1</td>\n",
       "      <td>0</td>\n",
       "      <td>NaN</td>\n",
       "    </tr>\n",
       "    <tr>\n",
       "      <td>560</td>\n",
       "      <td>4</td>\n",
       "      <td>5</td>\n",
       "      <td>0</td>\n",
       "      <td>1</td>\n",
       "      <td>0</td>\n",
       "      <td>1</td>\n",
       "      <td>2</td>\n",
       "      <td>2</td>\n",
       "      <td>0</td>\n",
       "      <td>1</td>\n",
       "      <td>3</td>\n",
       "      <td>3</td>\n",
       "      <td>1</td>\n",
       "      <td>1</td>\n",
       "      <td>0</td>\n",
       "      <td>NaN</td>\n",
       "    </tr>\n",
       "  </tbody>\n",
       "</table>\n",
       "</div>"
      ],
      "text/plain": [
       "      C1  C2  C3  C4  C5  C6  C7  C8  C9  C10  C11  C12  C13  C14  D1  isFraud\n",
       "5303   1   1   0   1   0   1   0   1   0    1    1    0    1    1   0      0.0\n",
       "1208   1   1   0   1   0   1   1   1   0    1    1    1    1    1   0      0.0\n",
       "1880   1   0   0   1   0   1   1   1   0    1    1    1    0    0   0      0.0\n",
       "1640   1   1   0   1   0   1   0   1   0    1    1    0    1    1   0      NaN\n",
       "560    4   5   0   1   0   1   2   2   0    1    3    3    1    1   0      NaN"
      ]
     },
     "execution_count": 48,
     "metadata": {},
     "output_type": "execute_result"
    }
   ],
   "source": [
    "temp = pd.DataFrame(X[temp_corr_columns].values, dtype = int)\n",
    "temp.columns = temp_corr_columns\n",
    "temp[\"isFraud\"] = Y\n",
    "temp.sample(5)"
   ]
  },
  {
   "cell_type": "code",
   "execution_count": 49,
   "metadata": {
    "ExecuteTime": {
     "end_time": "2019-09-17T09:08:45.880836Z",
     "start_time": "2019-09-17T09:08:45.070984Z"
    },
    "hidden": true
   },
   "outputs": [
    {
     "data": {
      "image/png": "[encoded data removed]",
      "text/plain": [
       "<Figure size 1296x1080 with 2 Axes>"
      ]
     },
     "metadata": {
      "needs_background": "light"
     },
     "output_type": "display_data"
    }
   ],
   "source": [
    "# plot strength of correlation ( = R^2) as a percentage\n",
    "plt.rcParams['figure.figsize'] = 18, 15\n",
    "\n",
    "sns.heatmap(temp.corr() ** 2 * 100, annot = True, cmap = 'viridis')\n",
    "plt.show()"
   ]
  },
  {
   "cell_type": "code",
   "execution_count": 50,
   "metadata": {
    "ExecuteTime": {
     "end_time": "2019-09-17T09:08:46.090302Z",
     "start_time": "2019-09-17T09:08:45.881833Z"
    },
    "hidden": true
   },
   "outputs": [
    {
     "data": {
      "text/plain": [
       "C1         65.293278\n",
       "C2         64.807279\n",
       "C3          6.292781\n",
       "C4         63.919488\n",
       "C5          0.000000\n",
       "C6         63.717910\n",
       "C7         60.988459\n",
       "C8         65.396376\n",
       "C9          0.000000\n",
       "C10        64.875039\n",
       "C11        65.632901\n",
       "C12        60.891952\n",
       "C13        65.186865\n",
       "C14        62.173593\n",
       "D1          6.297415\n",
       "isFraud     0.000000\n",
       "dtype: float64"
      ]
     },
     "execution_count": 50,
     "metadata": {},
     "output_type": "execute_result"
    }
   ],
   "source": [
    "# average strength of correlation of a variable with every one else\n",
    "\n",
    "(temp.corr() ** 2 * 100).sum()/len(temp.columns)"
   ]
  },
  {
   "cell_type": "code",
   "execution_count": 51,
   "metadata": {
    "ExecuteTime": {
     "end_time": "2019-09-17T09:08:46.301736Z",
     "start_time": "2019-09-17T09:08:46.091299Z"
    },
    "hidden": true
   },
   "outputs": [
    {
     "data": {
      "text/plain": [
       "10"
      ]
     },
     "execution_count": 51,
     "metadata": {},
     "output_type": "execute_result"
    }
   ],
   "source": [
    "corr_matrix = temp.corr() ** 2 * 100\n",
    "\n",
    "# Select upper triangle of correlation matrix\n",
    "upper = corr_matrix.where(np.triu(np.ones(corr_matrix.shape), k = 1).astype(np.bool))\n",
    "\n",
    "# Find index of feature columns with correlation greater than 25%\n",
    "to_drop = [column for column in upper.columns if any(upper[column] > 25)]\n",
    "\n",
    "# how many variables can we drop\n",
    "len(to_drop)"
   ]
  },
  {
   "cell_type": "code",
   "execution_count": 52,
   "metadata": {
    "ExecuteTime": {
     "end_time": "2019-09-17T09:08:46.499183Z",
     "start_time": "2019-09-17T09:08:46.302731Z"
    },
    "hidden": true
   },
   "outputs": [
    {
     "data": {
      "text/plain": [
       "['C1', 'C3', 'C5', 'C9', 'D1', 'isFraud']"
      ]
     },
     "execution_count": 52,
     "metadata": {},
     "output_type": "execute_result"
    }
   ],
   "source": [
    "[column for column in temp.columns if column not in to_drop]"
   ]
  },
  {
   "cell_type": "markdown",
   "metadata": {
    "hidden": true
   },
   "source": [
    "_`C5` and `C9` are null columns_"
   ]
  },
  {
   "cell_type": "code",
   "execution_count": 53,
   "metadata": {
    "ExecuteTime": {
     "end_time": "2019-09-17T09:08:46.712639Z",
     "start_time": "2019-09-17T09:08:46.500181Z"
    },
    "hidden": true
   },
   "outputs": [
    {
     "name": "stdout",
     "output_type": "stream",
     "text": [
      "['TransactionDT', 'DeviceInfo', 'ProductCD_H', 'ProductCD_R', 'R_emaildomain_aim.com', 'R_emaildomain_anonymous.com', 'R_emaildomain_att.net', 'R_emaildomain_cableone.net', 'R_emaildomain_cox.net', 'R_emaildomain_gmail', 'R_emaildomain_gmail.com', 'R_emaildomain_gmx.de', 'R_emaildomain_hotmail.co.uk', 'R_emaildomain_hotmail.com', 'R_emaildomain_hotmail.de', 'R_emaildomain_hotmail.es', 'R_emaildomain_hotmail.fr', 'R_emaildomain_icloud.com', 'R_emaildomain_juno.com', 'R_emaildomain_live.com', 'R_emaildomain_live.com.mx', 'R_emaildomain_live.fr', 'R_emaildomain_mail.com', 'R_emaildomain_outlook.com', 'R_emaildomain_outlook.es', 'R_emaildomain_rocketmail.com', 'R_emaildomain_servicios-ta.com', 'R_emaildomain_web.de', 'R_emaildomain_yahoo.com.mx', 'R_emaildomain_yahoo.de', 'R_emaildomain_yahoo.es', 'R_emaildomain_yahoo.fr', 'R_emaildomain_ymail.com', 'C2', 'C4', 'C6', 'C7', 'C8', 'C10', 'C11', 'C12', 'C13', 'C14', 'C5', 'C9']\n"
     ]
    }
   ],
   "source": [
    "columns_to_be_dropped_after_analysis.extend(to_drop)\n",
    "columns_to_be_dropped_after_analysis.extend([\"C5\", \"C9\"])\n",
    "print(columns_to_be_dropped_after_analysis)"
   ]
  },
  {
   "cell_type": "markdown",
   "metadata": {
    "hidden": true
   },
   "source": [
    "_Looks like `C1`, `C3`, and `D1` are good enough by themselves_"
   ]
  },
  {
   "cell_type": "markdown",
   "metadata": {
    "hidden": true
   },
   "source": [
    "_Alright. No `M*` columns to worry about then_"
   ]
  },
  {
   "cell_type": "markdown",
   "metadata": {
    "heading_collapsed": true,
    "hidden": true
   },
   "source": [
    "#### 1.4.6 `V*`"
   ]
  },
  {
   "cell_type": "code",
   "execution_count": 54,
   "metadata": {
    "ExecuteTime": {
     "end_time": "2019-09-17T09:08:46.919591Z",
     "start_time": "2019-09-17T09:08:46.713610Z"
    },
    "hidden": true
   },
   "outputs": [
    {
     "data": {
      "text/plain": [
       "198"
      ]
     },
     "execution_count": 54,
     "metadata": {},
     "output_type": "execute_result"
    }
   ],
   "source": [
    "v_columns = [column for column in X.columns if column[0] == \"V\"]\n",
    "len(v_columns)"
   ]
  },
  {
   "cell_type": "code",
   "execution_count": 55,
   "metadata": {
    "ExecuteTime": {
     "end_time": "2019-09-17T09:08:47.171459Z",
     "start_time": "2019-09-17T09:08:46.920563Z"
    },
    "hidden": true
   },
   "outputs": [
    {
     "data": {
      "text/plain": [
       "198"
      ]
     },
     "execution_count": 55,
     "metadata": {},
     "output_type": "execute_result"
    }
   ],
   "source": [
    "len([column for column in v_columns if isinstance(X[column], object)])"
   ]
  },
  {
   "cell_type": "markdown",
   "metadata": {
    "hidden": true
   },
   "source": [
    "_All of them are set as `str` objects by `pandas`_"
   ]
  },
  {
   "cell_type": "code",
   "execution_count": 56,
   "metadata": {
    "ExecuteTime": {
     "end_time": "2019-09-17T09:08:47.544176Z",
     "start_time": "2019-09-17T09:08:47.172457Z"
    },
    "hidden": true
   },
   "outputs": [
    {
     "data": {
      "text/html": [
       "<div>\n",
       "<style scoped>\n",
       "    .dataframe tbody tr th:only-of-type {\n",
       "        vertical-align: middle;\n",
       "    }\n",
       "\n",
       "    .dataframe tbody tr th {\n",
       "        vertical-align: top;\n",
       "    }\n",
       "\n",
       "    .dataframe thead th {\n",
       "        text-align: right;\n",
       "    }\n",
       "</style>\n",
       "<table border=\"1\" class=\"dataframe\">\n",
       "  <thead>\n",
       "    <tr style=\"text-align: right;\">\n",
       "      <th></th>\n",
       "      <th>V95</th>\n",
       "      <th>V96</th>\n",
       "      <th>V97</th>\n",
       "      <th>V98</th>\n",
       "      <th>V99</th>\n",
       "      <th>V100</th>\n",
       "      <th>V101</th>\n",
       "      <th>V102</th>\n",
       "      <th>V103</th>\n",
       "      <th>V104</th>\n",
       "      <th>...</th>\n",
       "      <th>V313</th>\n",
       "      <th>V314</th>\n",
       "      <th>V315</th>\n",
       "      <th>V316</th>\n",
       "      <th>V317</th>\n",
       "      <th>V318</th>\n",
       "      <th>V319</th>\n",
       "      <th>V320</th>\n",
       "      <th>V321</th>\n",
       "      <th>isFraud</th>\n",
       "    </tr>\n",
       "  </thead>\n",
       "  <tbody>\n",
       "    <tr>\n",
       "      <td>6598</td>\n",
       "      <td>0</td>\n",
       "      <td>0</td>\n",
       "      <td>0</td>\n",
       "      <td>0</td>\n",
       "      <td>0</td>\n",
       "      <td>0</td>\n",
       "      <td>0</td>\n",
       "      <td>0</td>\n",
       "      <td>0</td>\n",
       "      <td>0</td>\n",
       "      <td>...</td>\n",
       "      <td>0</td>\n",
       "      <td>0</td>\n",
       "      <td>0</td>\n",
       "      <td>0</td>\n",
       "      <td>0</td>\n",
       "      <td>0</td>\n",
       "      <td>0</td>\n",
       "      <td>0</td>\n",
       "      <td>0</td>\n",
       "      <td>NaN</td>\n",
       "    </tr>\n",
       "    <tr>\n",
       "      <td>227</td>\n",
       "      <td>2</td>\n",
       "      <td>8</td>\n",
       "      <td>2</td>\n",
       "      <td>0</td>\n",
       "      <td>2</td>\n",
       "      <td>0</td>\n",
       "      <td>2</td>\n",
       "      <td>5</td>\n",
       "      <td>2</td>\n",
       "      <td>0</td>\n",
       "      <td>...</td>\n",
       "      <td>0</td>\n",
       "      <td>0</td>\n",
       "      <td>0</td>\n",
       "      <td>100</td>\n",
       "      <td>175</td>\n",
       "      <td>100</td>\n",
       "      <td>0</td>\n",
       "      <td>25</td>\n",
       "      <td>0</td>\n",
       "      <td>0.0</td>\n",
       "    </tr>\n",
       "    <tr>\n",
       "      <td>2291</td>\n",
       "      <td>0</td>\n",
       "      <td>0</td>\n",
       "      <td>0</td>\n",
       "      <td>0</td>\n",
       "      <td>0</td>\n",
       "      <td>0</td>\n",
       "      <td>0</td>\n",
       "      <td>0</td>\n",
       "      <td>0</td>\n",
       "      <td>0</td>\n",
       "      <td>...</td>\n",
       "      <td>0</td>\n",
       "      <td>0</td>\n",
       "      <td>0</td>\n",
       "      <td>52</td>\n",
       "      <td>52</td>\n",
       "      <td>52</td>\n",
       "      <td>0</td>\n",
       "      <td>0</td>\n",
       "      <td>0</td>\n",
       "      <td>NaN</td>\n",
       "    </tr>\n",
       "    <tr>\n",
       "      <td>522</td>\n",
       "      <td>0</td>\n",
       "      <td>0</td>\n",
       "      <td>0</td>\n",
       "      <td>0</td>\n",
       "      <td>0</td>\n",
       "      <td>0</td>\n",
       "      <td>0</td>\n",
       "      <td>0</td>\n",
       "      <td>0</td>\n",
       "      <td>0</td>\n",
       "      <td>...</td>\n",
       "      <td>0</td>\n",
       "      <td>0</td>\n",
       "      <td>0</td>\n",
       "      <td>0</td>\n",
       "      <td>0</td>\n",
       "      <td>0</td>\n",
       "      <td>0</td>\n",
       "      <td>0</td>\n",
       "      <td>0</td>\n",
       "      <td>0.0</td>\n",
       "    </tr>\n",
       "    <tr>\n",
       "      <td>2153</td>\n",
       "      <td>8</td>\n",
       "      <td>8</td>\n",
       "      <td>8</td>\n",
       "      <td>1</td>\n",
       "      <td>1</td>\n",
       "      <td>1</td>\n",
       "      <td>0</td>\n",
       "      <td>0</td>\n",
       "      <td>0</td>\n",
       "      <td>7</td>\n",
       "      <td>...</td>\n",
       "      <td>0</td>\n",
       "      <td>0</td>\n",
       "      <td>0</td>\n",
       "      <td>0</td>\n",
       "      <td>0</td>\n",
       "      <td>0</td>\n",
       "      <td>25</td>\n",
       "      <td>25</td>\n",
       "      <td>25</td>\n",
       "      <td>0.0</td>\n",
       "    </tr>\n",
       "  </tbody>\n",
       "</table>\n",
       "<p>5 rows × 199 columns</p>\n",
       "</div>"
      ],
      "text/plain": [
       "      V95  V96  V97  V98  V99  V100  V101  V102  V103  V104  ...  V313  V314  \\\n",
       "6598    0    0    0    0    0     0     0     0     0     0  ...     0     0   \n",
       "227     2    8    2    0    2     0     2     5     2     0  ...     0     0   \n",
       "2291    0    0    0    0    0     0     0     0     0     0  ...     0     0   \n",
       "522     0    0    0    0    0     0     0     0     0     0  ...     0     0   \n",
       "2153    8    8    8    1    1     1     0     0     0     7  ...     0     0   \n",
       "\n",
       "      V315  V316  V317  V318  V319  V320  V321  isFraud  \n",
       "6598     0     0     0     0     0     0     0      NaN  \n",
       "227      0   100   175   100     0    25     0      0.0  \n",
       "2291     0    52    52    52     0     0     0      NaN  \n",
       "522      0     0     0     0     0     0     0      0.0  \n",
       "2153     0     0     0     0    25    25    25      0.0  \n",
       "\n",
       "[5 rows x 199 columns]"
      ]
     },
     "execution_count": 56,
     "metadata": {},
     "output_type": "execute_result"
    }
   ],
   "source": [
    "temp = pd.DataFrame(X[v_columns].values, dtype = int)\n",
    "temp.columns = v_columns\n",
    "temp[\"isFraud\"] = Y\n",
    "temp.sample(5)"
   ]
  },
  {
   "cell_type": "code",
   "execution_count": 57,
   "metadata": {
    "ExecuteTime": {
     "end_time": "2019-09-17T09:08:48.391113Z",
     "start_time": "2019-09-17T09:08:47.545172Z"
    },
    "hidden": true,
    "scrolled": true
   },
   "outputs": [
    {
     "data": {
      "text/plain": [
       "181"
      ]
     },
     "execution_count": 57,
     "metadata": {},
     "output_type": "execute_result"
    }
   ],
   "source": [
    "corr_matrix = temp.corr() ** 2 * 100\n",
    "\n",
    "# Select upper triangle of correlation matrix\n",
    "upper = corr_matrix.where(np.triu(np.ones(corr_matrix.shape), k = 1).astype(np.bool))\n",
    "\n",
    "# Find index of feature columns with correlation greater than 25%\n",
    "to_drop = [column for column in upper.columns if any(upper[column] > 25)]\n",
    "\n",
    "# how many variables can we drop\n",
    "len(to_drop)"
   ]
  },
  {
   "cell_type": "code",
   "execution_count": 58,
   "metadata": {
    "ExecuteTime": {
     "end_time": "2019-09-17T09:08:48.592546Z",
     "start_time": "2019-09-17T09:08:48.392111Z"
    },
    "hidden": true
   },
   "outputs": [
    {
     "name": "stdout",
     "output_type": "stream",
     "text": [
      "['TransactionDT', 'DeviceInfo', 'ProductCD_H', 'ProductCD_R', 'R_emaildomain_aim.com', 'R_emaildomain_anonymous.com', 'R_emaildomain_att.net', 'R_emaildomain_cableone.net', 'R_emaildomain_cox.net', 'R_emaildomain_gmail', 'R_emaildomain_gmail.com', 'R_emaildomain_gmx.de', 'R_emaildomain_hotmail.co.uk', 'R_emaildomain_hotmail.com', 'R_emaildomain_hotmail.de', 'R_emaildomain_hotmail.es', 'R_emaildomain_hotmail.fr', 'R_emaildomain_icloud.com', 'R_emaildomain_juno.com', 'R_emaildomain_live.com', 'R_emaildomain_live.com.mx', 'R_emaildomain_live.fr', 'R_emaildomain_mail.com', 'R_emaildomain_outlook.com', 'R_emaildomain_outlook.es', 'R_emaildomain_rocketmail.com', 'R_emaildomain_servicios-ta.com', 'R_emaildomain_web.de', 'R_emaildomain_yahoo.com.mx', 'R_emaildomain_yahoo.de', 'R_emaildomain_yahoo.es', 'R_emaildomain_yahoo.fr', 'R_emaildomain_ymail.com', 'C2', 'C4', 'C6', 'C7', 'C8', 'C10', 'C11', 'C12', 'C13', 'C14', 'C5', 'C9', 'V96', 'V97', 'V99', 'V100', 'V101', 'V102', 'V103', 'V104', 'V105', 'V106', 'V109', 'V110', 'V111', 'V112', 'V113', 'V114', 'V115', 'V116', 'V118', 'V119', 'V120', 'V121', 'V122', 'V123', 'V124', 'V125', 'V126', 'V127', 'V128', 'V129', 'V130', 'V131', 'V132', 'V133', 'V134', 'V135', 'V136', 'V137', 'V167', 'V168', 'V171', 'V174', 'V175', 'V176', 'V177', 'V178', 'V179', 'V180', 'V181', 'V182', 'V183', 'V184', 'V185', 'V186', 'V187', 'V188', 'V189', 'V190', 'V191', 'V192', 'V193', 'V195', 'V196', 'V197', 'V198', 'V199', 'V200', 'V201', 'V202', 'V203', 'V204', 'V205', 'V206', 'V207', 'V208', 'V209', 'V210', 'V211', 'V212', 'V213', 'V214', 'V215', 'V216', 'V218', 'V219', 'V220', 'V221', 'V222', 'V223', 'V225', 'V226', 'V228', 'V229', 'V230', 'V231', 'V232', 'V233', 'V234', 'V235', 'V236', 'V237', 'V238', 'V239', 'V241', 'V242', 'V243', 'V244', 'V245', 'V246', 'V247', 'V248', 'V249', 'V250', 'V251', 'V252', 'V253', 'V254', 'V255', 'V256', 'V257', 'V258', 'V259', 'V260', 'V261', 'V262', 'V263', 'V264', 'V265', 'V266', 'V267', 'V268', 'V269', 'V270', 'V271', 'V272', 'V273', 'V274', 'V275', 'V276', 'V277', 'V278', 'V279', 'V280', 'V282', 'V283', 'V284', 'V285', 'V286', 'V287', 'V288', 'V289', 'V290', 'V291', 'V292', 'V293', 'V294', 'V295', 'V296', 'V297', 'V298', 'V299', 'V300', 'V301', 'V303', 'V304', 'V306', 'V307', 'V308', 'V309', 'V310', 'V311', 'V312', 'V313', 'V314', 'V315', 'V316', 'V317', 'V318', 'V319', 'V320', 'V321']\n"
     ]
    }
   ],
   "source": [
    "columns_to_be_dropped_after_analysis.extend(to_drop)\n",
    "print(columns_to_be_dropped_after_analysis)"
   ]
  },
  {
   "cell_type": "markdown",
   "metadata": {
    "hidden": true
   },
   "source": [
    "#### 1.4.7 `id*`"
   ]
  },
  {
   "cell_type": "code",
   "execution_count": 59,
   "metadata": {
    "ExecuteTime": {
     "end_time": "2019-09-17T09:08:48.797559Z",
     "start_time": "2019-09-17T09:08:48.593571Z"
    },
    "hidden": true
   },
   "outputs": [
    {
     "name": "stdout",
     "output_type": "stream",
     "text": [
      "['id_01', 'id_02', 'id_05', 'id_06', 'id_11', 'id_12', 'id_13', 'id_15', 'id_16', 'id_17', 'id_19', 'id_20', 'id_28', 'id_29', 'id_31', 'id_35', 'id_36', 'id_37', 'id_38']\n"
     ]
    }
   ],
   "source": [
    "id_columns = [column for column in X.columns if column[0:2] == \"id\"]\n",
    "print(id_columns)"
   ]
  },
  {
   "cell_type": "code",
   "execution_count": 60,
   "metadata": {
    "ExecuteTime": {
     "end_time": "2019-09-17T09:08:49.000640Z",
     "start_time": "2019-09-17T09:08:48.798557Z"
    },
    "hidden": true
   },
   "outputs": [
    {
     "name": "stdout",
     "output_type": "stream",
     "text": [
      "['id_12', 'id_13', 'id_15', 'id_16', 'id_17', 'id_19', 'id_20', 'id_28', 'id_29', 'id_31', 'id_35', 'id_36', 'id_37', 'id_38']\n",
      "['id_01', 'id_02', 'id_05', 'id_06', 'id_11']\n"
     ]
    }
   ],
   "source": [
    "# id12 - id 36 are categorical\n",
    "\n",
    "id_columns_categorical = [column for column in id_columns if int(column[3:]) > 11]\n",
    "print(id_columns_categorical)\n",
    "\n",
    "id_columns_numeric = [column for column in id_columns if column not in id_columns_categorical]\n",
    "print(id_columns_numeric)"
   ]
  },
  {
   "cell_type": "code",
   "execution_count": 61,
   "metadata": {
    "ExecuteTime": {
     "end_time": "2019-09-17T09:08:49.231998Z",
     "start_time": "2019-09-17T09:08:49.001613Z"
    },
    "hidden": true,
    "scrolled": true
   },
   "outputs": [
    {
     "data": {
      "text/html": [
       "<div>\n",
       "<style scoped>\n",
       "    .dataframe tbody tr th:only-of-type {\n",
       "        vertical-align: middle;\n",
       "    }\n",
       "\n",
       "    .dataframe tbody tr th {\n",
       "        vertical-align: top;\n",
       "    }\n",
       "\n",
       "    .dataframe thead th {\n",
       "        text-align: right;\n",
       "    }\n",
       "</style>\n",
       "<table border=\"1\" class=\"dataframe\">\n",
       "  <thead>\n",
       "    <tr style=\"text-align: right;\">\n",
       "      <th></th>\n",
       "      <th>id_01</th>\n",
       "      <th>id_02</th>\n",
       "      <th>id_05</th>\n",
       "      <th>id_06</th>\n",
       "      <th>id_11</th>\n",
       "      <th>id_12</th>\n",
       "      <th>id_13</th>\n",
       "      <th>id_15</th>\n",
       "      <th>id_16</th>\n",
       "      <th>id_17</th>\n",
       "      <th>id_19</th>\n",
       "      <th>id_20</th>\n",
       "      <th>id_28</th>\n",
       "      <th>id_29</th>\n",
       "      <th>id_31</th>\n",
       "      <th>id_35</th>\n",
       "      <th>id_36</th>\n",
       "      <th>id_37</th>\n",
       "      <th>id_38</th>\n",
       "    </tr>\n",
       "  </thead>\n",
       "  <tbody>\n",
       "    <tr>\n",
       "      <td>4538</td>\n",
       "      <td>-5</td>\n",
       "      <td>120846</td>\n",
       "      <td>0</td>\n",
       "      <td>0</td>\n",
       "      <td>100</td>\n",
       "      <td>NotFound</td>\n",
       "      <td>52</td>\n",
       "      <td>Found</td>\n",
       "      <td>Found</td>\n",
       "      <td>166</td>\n",
       "      <td>529</td>\n",
       "      <td>222</td>\n",
       "      <td>Found</td>\n",
       "      <td>Found</td>\n",
       "      <td>chrome 63.0</td>\n",
       "      <td>T</td>\n",
       "      <td>F</td>\n",
       "      <td>T</td>\n",
       "      <td>F</td>\n",
       "    </tr>\n",
       "    <tr>\n",
       "      <td>17602</td>\n",
       "      <td>-5</td>\n",
       "      <td>43647</td>\n",
       "      <td>0</td>\n",
       "      <td>0</td>\n",
       "      <td>100</td>\n",
       "      <td>Found</td>\n",
       "      <td>52</td>\n",
       "      <td>New</td>\n",
       "      <td>NotFound</td>\n",
       "      <td>166</td>\n",
       "      <td>216</td>\n",
       "      <td>161</td>\n",
       "      <td>Found</td>\n",
       "      <td>Found</td>\n",
       "      <td>chrome 64.0</td>\n",
       "      <td>T</td>\n",
       "      <td>F</td>\n",
       "      <td>T</td>\n",
       "      <td>T</td>\n",
       "    </tr>\n",
       "    <tr>\n",
       "      <td>784</td>\n",
       "      <td>-5</td>\n",
       "      <td>67661</td>\n",
       "      <td>4</td>\n",
       "      <td>0</td>\n",
       "      <td>100</td>\n",
       "      <td>Found</td>\n",
       "      <td>49</td>\n",
       "      <td>New</td>\n",
       "      <td>NotFound</td>\n",
       "      <td>166</td>\n",
       "      <td>100</td>\n",
       "      <td>368</td>\n",
       "      <td>New</td>\n",
       "      <td>NotFound</td>\n",
       "      <td>mobile safari 11.0</td>\n",
       "      <td>T</td>\n",
       "      <td>F</td>\n",
       "      <td>F</td>\n",
       "      <td>T</td>\n",
       "    </tr>\n",
       "    <tr>\n",
       "      <td>6550</td>\n",
       "      <td>-5</td>\n",
       "      <td>210141</td>\n",
       "      <td>0</td>\n",
       "      <td>0</td>\n",
       "      <td>100</td>\n",
       "      <td>NotFound</td>\n",
       "      <td>52</td>\n",
       "      <td>Found</td>\n",
       "      <td>NotFound</td>\n",
       "      <td>100</td>\n",
       "      <td>225</td>\n",
       "      <td>314</td>\n",
       "      <td>Found</td>\n",
       "      <td>NotFound</td>\n",
       "      <td>chrome 65.0</td>\n",
       "      <td>F</td>\n",
       "      <td>F</td>\n",
       "      <td>T</td>\n",
       "      <td>F</td>\n",
       "    </tr>\n",
       "    <tr>\n",
       "      <td>7270</td>\n",
       "      <td>-5</td>\n",
       "      <td>32446</td>\n",
       "      <td>1</td>\n",
       "      <td>0</td>\n",
       "      <td>100</td>\n",
       "      <td>NotFound</td>\n",
       "      <td>52</td>\n",
       "      <td>Found</td>\n",
       "      <td>Found</td>\n",
       "      <td>166</td>\n",
       "      <td>529</td>\n",
       "      <td>549</td>\n",
       "      <td>Found</td>\n",
       "      <td>Found</td>\n",
       "      <td>chrome 62.0</td>\n",
       "      <td>T</td>\n",
       "      <td>F</td>\n",
       "      <td>T</td>\n",
       "      <td>T</td>\n",
       "    </tr>\n",
       "  </tbody>\n",
       "</table>\n",
       "</div>"
      ],
      "text/plain": [
       "       id_01   id_02  id_05  id_06  id_11     id_12 id_13  id_15     id_16  \\\n",
       "4538      -5  120846      0      0    100  NotFound    52  Found     Found   \n",
       "17602     -5   43647      0      0    100     Found    52    New  NotFound   \n",
       "784       -5   67661      4      0    100     Found    49    New  NotFound   \n",
       "6550      -5  210141      0      0    100  NotFound    52  Found  NotFound   \n",
       "7270      -5   32446      1      0    100  NotFound    52  Found     Found   \n",
       "\n",
       "      id_17 id_19 id_20  id_28     id_29               id_31 id_35 id_36  \\\n",
       "4538    166   529   222  Found     Found         chrome 63.0     T     F   \n",
       "17602   166   216   161  Found     Found         chrome 64.0     T     F   \n",
       "784     166   100   368    New  NotFound  mobile safari 11.0     T     F   \n",
       "6550    100   225   314  Found  NotFound         chrome 65.0     F     F   \n",
       "7270    166   529   549  Found     Found         chrome 62.0     T     F   \n",
       "\n",
       "      id_37 id_38  \n",
       "4538      T     F  \n",
       "17602     T     T  \n",
       "784       F     T  \n",
       "6550      T     F  \n",
       "7270      T     T  "
      ]
     },
     "execution_count": 61,
     "metadata": {},
     "output_type": "execute_result"
    }
   ],
   "source": [
    "temp = X[id_columns].copy(deep = True)\n",
    "temp.columns = id_columns\n",
    "temp[id_columns_numeric] = temp[id_columns_numeric].astype(int)\n",
    "\n",
    "temp.sample(5)"
   ]
  },
  {
   "cell_type": "code",
   "execution_count": 62,
   "metadata": {
    "ExecuteTime": {
     "end_time": "2019-09-17T09:08:49.433252Z",
     "start_time": "2019-09-17T09:08:49.232995Z"
    },
    "hidden": true
   },
   "outputs": [
    {
     "data": {
      "text/plain": [
       "'id_12 != 0 and id_13 != 0 and id_15 != 0 and id_16 != 0 and id_17 != 0 and id_19 != 0 and id_20 != 0 and id_28 != 0 and id_29 != 0 and id_31 != 0 and id_35 != 0 and id_36 != 0 and id_37 != 0 and id_38 != 0'"
      ]
     },
     "execution_count": 62,
     "metadata": {},
     "output_type": "execute_result"
    }
   ],
   "source": [
    "generated_query = ''.join([column + \" != 0 and \" for column in id_columns_categorical])[:-5]\n",
    "generated_query"
   ]
  },
  {
   "cell_type": "code",
   "execution_count": 63,
   "metadata": {
    "ExecuteTime": {
     "end_time": "2019-09-17T09:08:50.017662Z",
     "start_time": "2019-09-17T09:08:49.434223Z"
    },
    "hidden": true
   },
   "outputs": [],
   "source": [
    "temp = X.copy(deep = True)\n",
    "temp[\"isFraud\"] = Y\n",
    "\n",
    "temp = temp.query(generated_query)\n",
    "\n",
    "Y = temp[\"isFraud\"]\n",
    "X = temp.drop(\"isFraud\", axis = 1)\n",
    "X[id_columns_numeric] = X[id_columns_numeric].astype(int)\n",
    "\n",
    "temp = X[id_columns_categorical].copy(deep = True)\n",
    "temp = pd.get_dummies(temp, id_columns_categorical)"
   ]
  },
  {
   "cell_type": "code",
   "execution_count": 64,
   "metadata": {
    "ExecuteTime": {
     "end_time": "2019-09-17T09:08:53.620399Z",
     "start_time": "2019-09-17T09:08:50.018669Z"
    },
    "hidden": true
   },
   "outputs": [
    {
     "data": {
      "text/plain": [
       "85"
      ]
     },
     "execution_count": 64,
     "metadata": {},
     "output_type": "execute_result"
    }
   ],
   "source": [
    "corr_matrix = temp.corr() ** 2 * 100\n",
    "\n",
    "# Select upper triangle of correlation matrix\n",
    "upper = corr_matrix.where(np.triu(np.ones(corr_matrix.shape), k = 1).astype(np.bool))\n",
    "\n",
    "# Find index of feature columns with correlation greater than 25%\n",
    "to_drop = [column for column in upper.columns if any(upper[column] > 25)]\n",
    "\n",
    "# how many variables can we drop\n",
    "len(to_drop)"
   ]
  },
  {
   "cell_type": "code",
   "execution_count": 65,
   "metadata": {
    "ExecuteTime": {
     "end_time": "2019-09-17T09:08:53.827814Z",
     "start_time": "2019-09-17T09:08:53.621367Z"
    },
    "hidden": true
   },
   "outputs": [
    {
     "name": "stdout",
     "output_type": "stream",
     "text": [
      "['TransactionDT', 'DeviceInfo', 'ProductCD_H', 'ProductCD_R', 'R_emaildomain_aim.com', 'R_emaildomain_anonymous.com', 'R_emaildomain_att.net', 'R_emaildomain_cableone.net', 'R_emaildomain_cox.net', 'R_emaildomain_gmail', 'R_emaildomain_gmail.com', 'R_emaildomain_gmx.de', 'R_emaildomain_hotmail.co.uk', 'R_emaildomain_hotmail.com', 'R_emaildomain_hotmail.de', 'R_emaildomain_hotmail.es', 'R_emaildomain_hotmail.fr', 'R_emaildomain_icloud.com', 'R_emaildomain_juno.com', 'R_emaildomain_live.com', 'R_emaildomain_live.com.mx', 'R_emaildomain_live.fr', 'R_emaildomain_mail.com', 'R_emaildomain_outlook.com', 'R_emaildomain_outlook.es', 'R_emaildomain_rocketmail.com', 'R_emaildomain_servicios-ta.com', 'R_emaildomain_web.de', 'R_emaildomain_yahoo.com.mx', 'R_emaildomain_yahoo.de', 'R_emaildomain_yahoo.es', 'R_emaildomain_yahoo.fr', 'R_emaildomain_ymail.com', 'C2', 'C4', 'C6', 'C7', 'C8', 'C10', 'C11', 'C12', 'C13', 'C14', 'C5', 'C9', 'V96', 'V97', 'V99', 'V100', 'V101', 'V102', 'V103', 'V104', 'V105', 'V106', 'V109', 'V110', 'V111', 'V112', 'V113', 'V114', 'V115', 'V116', 'V118', 'V119', 'V120', 'V121', 'V122', 'V123', 'V124', 'V125', 'V126', 'V127', 'V128', 'V129', 'V130', 'V131', 'V132', 'V133', 'V134', 'V135', 'V136', 'V137', 'V167', 'V168', 'V171', 'V174', 'V175', 'V176', 'V177', 'V178', 'V179', 'V180', 'V181', 'V182', 'V183', 'V184', 'V185', 'V186', 'V187', 'V188', 'V189', 'V190', 'V191', 'V192', 'V193', 'V195', 'V196', 'V197', 'V198', 'V199', 'V200', 'V201', 'V202', 'V203', 'V204', 'V205', 'V206', 'V207', 'V208', 'V209', 'V210', 'V211', 'V212', 'V213', 'V214', 'V215', 'V216', 'V218', 'V219', 'V220', 'V221', 'V222', 'V223', 'V225', 'V226', 'V228', 'V229', 'V230', 'V231', 'V232', 'V233', 'V234', 'V235', 'V236', 'V237', 'V238', 'V239', 'V241', 'V242', 'V243', 'V244', 'V245', 'V246', 'V247', 'V248', 'V249', 'V250', 'V251', 'V252', 'V253', 'V254', 'V255', 'V256', 'V257', 'V258', 'V259', 'V260', 'V261', 'V262', 'V263', 'V264', 'V265', 'V266', 'V267', 'V268', 'V269', 'V270', 'V271', 'V272', 'V273', 'V274', 'V275', 'V276', 'V277', 'V278', 'V279', 'V280', 'V282', 'V283', 'V284', 'V285', 'V286', 'V287', 'V288', 'V289', 'V290', 'V291', 'V292', 'V293', 'V294', 'V295', 'V296', 'V297', 'V298', 'V299', 'V300', 'V301', 'V303', 'V304', 'V306', 'V307', 'V308', 'V309', 'V310', 'V311', 'V312', 'V313', 'V314', 'V315', 'V316', 'V317', 'V318', 'V319', 'V320', 'V321', 'id_12_NotFound', 'id_15_New', 'id_16_Found', 'id_16_NotFound', 'id_17_225.0', 'id_19_127.0', 'id_19_142.0', 'id_19_213.0', 'id_19_377.0', 'id_19_449.0', 'id_19_507.0', 'id_19_595.0', 'id_19_608.0', 'id_19_634.0', 'id_19_651.0', 'id_19_661.0', 'id_20_103.0', 'id_20_107.0', 'id_20_113.0', 'id_20_119.0', 'id_20_121.0', 'id_20_142.0', 'id_20_152.0', 'id_20_155.0', 'id_20_160.0', 'id_20_197.0', 'id_20_201.0', 'id_20_209.0', 'id_20_215.0', 'id_20_236.0', 'id_20_265.0', 'id_20_269.0', 'id_20_271.0', 'id_20_282.0', 'id_20_314.0', 'id_20_317.0', 'id_20_321.0', 'id_20_324.0', 'id_20_335.0', 'id_20_337.0', 'id_20_350.0', 'id_20_358.0', 'id_20_359.0', 'id_20_360.0', 'id_20_369.0', 'id_20_379.0', 'id_20_388.0', 'id_20_396.0', 'id_20_400.0', 'id_20_401.0', 'id_20_407.0', 'id_20_419.0', 'id_20_424.0', 'id_20_427.0', 'id_20_429.0', 'id_20_432.0', 'id_20_437.0', 'id_20_444.0', 'id_20_446.0', 'id_20_452.0', 'id_20_460.0', 'id_20_474.0', 'id_20_481.0', 'id_20_483.0', 'id_20_568.0', 'id_20_583.0', 'id_20_596.0', 'id_20_598.0', 'id_20_609.0', 'id_20_619.0', 'id_20_623.0', 'id_20_632.0', 'id_20_633.0', 'id_20_656.0', 'id_28_Found', 'id_28_New', 'id_29_Found', 'id_29_NotFound', 'id_31_chrome 66.0 for android', 'id_35_F', 'id_35_T', 'id_36_T', 'id_37_F', 'id_37_T', 'id_38_T']\n"
     ]
    }
   ],
   "source": [
    "columns_to_be_dropped_after_analysis.extend(to_drop)\n",
    "print(columns_to_be_dropped_after_analysis)"
   ]
  },
  {
   "cell_type": "code",
   "execution_count": 66,
   "metadata": {
    "ExecuteTime": {
     "end_time": "2019-09-17T09:08:54.146986Z",
     "start_time": "2019-09-17T09:08:53.828812Z"
    },
    "hidden": true
   },
   "outputs": [],
   "source": [
    "X = pd.get_dummies(X, columns = id_columns_categorical)"
   ]
  },
  {
   "cell_type": "markdown",
   "metadata": {
    "heading_collapsed": true,
    "hidden": true
   },
   "source": [
    "#### 1.4.8 `DeviceType`"
   ]
  },
  {
   "cell_type": "code",
   "execution_count": 67,
   "metadata": {
    "ExecuteTime": {
     "end_time": "2019-09-17T09:08:56.398257Z",
     "start_time": "2019-09-17T09:08:54.147985Z"
    },
    "hidden": true
   },
   "outputs": [
    {
     "data": {
      "text/plain": [
       "(5241, 46904)"
      ]
     },
     "execution_count": 67,
     "metadata": {},
     "output_type": "execute_result"
    }
   ],
   "source": [
    "X = pd.get_dummies(X, \"DeviceType\")\n",
    "X.shape"
   ]
  },
  {
   "cell_type": "markdown",
   "metadata": {
    "heading_collapsed": true,
    "hidden": true
   },
   "source": [
    "### 1.5 Removing columns after analysis"
   ]
  },
  {
   "cell_type": "code",
   "execution_count": 68,
   "metadata": {
    "ExecuteTime": {
     "end_time": "2019-09-17T09:08:56.619615Z",
     "start_time": "2019-09-17T09:08:56.405189Z"
    },
    "hidden": true
   },
   "outputs": [
    {
     "data": {
      "text/plain": [
       "((5241, 46904), (5241,))"
      ]
     },
     "execution_count": 68,
     "metadata": {},
     "output_type": "execute_result"
    }
   ],
   "source": [
    "X.shape, Y.shape"
   ]
  },
  {
   "cell_type": "code",
   "execution_count": 69,
   "metadata": {
    "ExecuteTime": {
     "end_time": "2019-09-17T09:10:02.209757Z",
     "start_time": "2019-09-17T09:08:56.623605Z"
    },
    "hidden": true,
    "scrolled": false
   },
   "outputs": [],
   "source": [
    "for column in X.columns:\n",
    "    try:\n",
    "        X[column].astype(\"float32\")\n",
    "    except:\n",
    "        print(column)"
   ]
  },
  {
   "cell_type": "markdown",
   "metadata": {
    "heading_collapsed": true
   },
   "source": [
    "## 2 Dataset Modelling"
   ]
  },
  {
   "cell_type": "markdown",
   "metadata": {
    "heading_collapsed": true,
    "hidden": true
   },
   "source": [
    "### 2.1 Creating train and test datasets out of `X` and `Y`"
   ]
  },
  {
   "cell_type": "code",
   "execution_count": 71,
   "metadata": {
    "ExecuteTime": {
     "end_time": "2019-09-17T09:17:20.817543Z",
     "start_time": "2019-09-17T09:17:20.251776Z"
    },
    "hidden": true
   },
   "outputs": [
    {
     "data": {
      "text/plain": [
       "((5241, 46904), (5241,), numpy.ndarray, numpy.ndarray)"
      ]
     },
     "execution_count": 71,
     "metadata": {},
     "output_type": "execute_result"
    }
   ],
   "source": [
    "X = X.values\n",
    "Y = Y.values\n",
    "\n",
    "X.shape, Y.shape, type(X), type(Y)"
   ]
  },
  {
   "cell_type": "code",
   "execution_count": 77,
   "metadata": {
    "ExecuteTime": {
     "end_time": "2019-09-17T09:21:36.455270Z",
     "start_time": "2019-09-17T09:21:32.040350Z"
    },
    "hidden": true
   },
   "outputs": [],
   "source": [
    "from sklearn.model_selection import train_test_split\n",
    "\n",
    "X_train, X_test, Y_train, Y_test = train_test_split(X, Y, test_size = 0.3, random_state = 123)\n",
    "X_val, X_test, Y_val, Y_test = train_test_split(X_test, Y_test, test_size = 0.1, random_state = 123)"
   ]
  },
  {
   "cell_type": "code",
   "execution_count": 78,
   "metadata": {
    "ExecuteTime": {
     "end_time": "2019-09-17T09:21:39.911080Z",
     "start_time": "2019-09-17T09:21:39.690631Z"
    },
    "hidden": true
   },
   "outputs": [
    {
     "data": {
      "text/plain": [
       "((3668, 46904), (3668,), (1415, 46904), (1415,), (158, 46904), (158,))"
      ]
     },
     "execution_count": 78,
     "metadata": {},
     "output_type": "execute_result"
    }
   ],
   "source": [
    "X_train.shape, Y_train.shape, X_val.shape, Y_val.shape, X_test.shape, Y_test.shape"
   ]
  },
  {
   "cell_type": "markdown",
   "metadata": {
    "heading_collapsed": true,
    "hidden": true
   },
   "source": [
    "### 2.2 Training and Cross-validating a `LogisticRegression` Model"
   ]
  },
  {
   "cell_type": "code",
   "execution_count": 80,
   "metadata": {
    "ExecuteTime": {
     "end_time": "2019-09-17T09:22:26.099525Z",
     "start_time": "2019-09-17T09:22:25.896069Z"
    },
    "hidden": true
   },
   "outputs": [],
   "source": [
    "from sklearn.linear_model import LogisticRegression"
   ]
  },
  {
   "cell_type": "code",
   "execution_count": 81,
   "metadata": {
    "ExecuteTime": {
     "end_time": "2019-09-17T09:22:30.627058Z",
     "start_time": "2019-09-17T09:22:29.289440Z"
    },
    "hidden": true
   },
   "outputs": [
    {
     "data": {
      "text/plain": [
       "LogisticRegression(C=1.0, class_weight=None, dual=False, fit_intercept=True,\n",
       "                   intercept_scaling=1, l1_ratio=None, max_iter=100,\n",
       "                   multi_class='warn', n_jobs=None, penalty='l2',\n",
       "                   random_state=123, solver='liblinear', tol=0.0001, verbose=0,\n",
       "                   warm_start=False)"
      ]
     },
     "execution_count": 81,
     "metadata": {},
     "output_type": "execute_result"
    }
   ],
   "source": [
    "lr = LogisticRegression(solver = \"liblinear\", random_state = 123)\n",
    "lr.fit(X_train, Y_train)"
   ]
  },
  {
   "cell_type": "code",
   "execution_count": 83,
   "metadata": {
    "ExecuteTime": {
     "end_time": "2019-09-17T09:23:54.925951Z",
     "start_time": "2019-09-17T09:23:54.720149Z"
    },
    "hidden": true
   },
   "outputs": [],
   "source": [
    "from sklearn.model_selection import cross_val_score"
   ]
  },
  {
   "cell_type": "code",
   "execution_count": 84,
   "metadata": {
    "ExecuteTime": {
     "end_time": "2019-09-17T09:24:03.800691Z",
     "start_time": "2019-09-17T09:23:58.164980Z"
    },
    "hidden": true
   },
   "outputs": [
    {
     "name": "stderr",
     "output_type": "stream",
     "text": [
      "[Parallel(n_jobs=1)]: Using backend SequentialBackend with 1 concurrent workers.\n"
     ]
    },
    {
     "name": "stdout",
     "output_type": "stream",
     "text": [
      "[CV]  ................................................................\n",
      "[CV] .................................... , score=0.706, total=   0.5s\n",
      "[CV]  ................................................................\n"
     ]
    },
    {
     "name": "stderr",
     "output_type": "stream",
     "text": [
      "[Parallel(n_jobs=1)]: Done   1 out of   1 | elapsed:    0.4s remaining:    0.0s\n"
     ]
    },
    {
     "name": "stdout",
     "output_type": "stream",
     "text": [
      "[CV] .................................... , score=0.761, total=   0.5s\n",
      "[CV]  ................................................................\n"
     ]
    },
    {
     "name": "stderr",
     "output_type": "stream",
     "text": [
      "[Parallel(n_jobs=1)]: Done   2 out of   2 | elapsed:    1.0s remaining:    0.0s\n"
     ]
    },
    {
     "name": "stdout",
     "output_type": "stream",
     "text": [
      "[CV] .................................... , score=0.718, total=   0.5s\n",
      "[CV]  ................................................................\n",
      "[CV] .................................... , score=0.739, total=   0.5s\n",
      "[CV]  ................................................................\n",
      "[CV] .................................... , score=0.759, total=   0.5s\n",
      "[CV]  ................................................................\n",
      "[CV] .................................... , score=0.759, total=   0.5s\n",
      "[CV]  ................................................................\n",
      "[CV] .................................... , score=0.823, total=   0.5s\n",
      "[CV]  ................................................................\n",
      "[CV] .................................... , score=0.794, total=   0.5s\n",
      "[CV]  ................................................................\n",
      "[CV] .................................... , score=0.759, total=   0.5s\n",
      "[CV]  ................................................................\n",
      "[CV] .................................... , score=0.801, total=   0.5s\n"
     ]
    },
    {
     "name": "stderr",
     "output_type": "stream",
     "text": [
      "[Parallel(n_jobs=1)]: Done  10 out of  10 | elapsed:    5.3s finished\n"
     ]
    }
   ],
   "source": [
    "score = cross_val_score(lr, X_val, Y_val, cv = 10, verbose = 3)"
   ]
  },
  {
   "cell_type": "code",
   "execution_count": 88,
   "metadata": {
    "ExecuteTime": {
     "end_time": "2019-09-17T09:25:39.145525Z",
     "start_time": "2019-09-17T09:25:38.944035Z"
    },
    "hidden": true
   },
   "outputs": [
    {
     "name": "stdout",
     "output_type": "stream",
     "text": [
      "Mean Validation Accuracy = 0.7620\n",
      "Median Validation Accuracy = 0.7589\n"
     ]
    }
   ],
   "source": [
    "print(\"Mean Validation Accuracy = %0.04f\" % np.mean(score))\n",
    "print(\"Median Validation Accuracy = %0.04f\" % np.median(score))"
   ]
  },
  {
   "cell_type": "markdown",
   "metadata": {
    "heading_collapsed": true,
    "hidden": true
   },
   "source": [
    "### 2.3 Model Testing and Model Evaluation"
   ]
  },
  {
   "cell_type": "code",
   "execution_count": 89,
   "metadata": {
    "ExecuteTime": {
     "end_time": "2019-09-17T09:28:29.046739Z",
     "start_time": "2019-09-17T09:28:28.841384Z"
    },
    "hidden": true
   },
   "outputs": [],
   "source": [
    "from sklearn.metrics import classification_report"
   ]
  },
  {
   "cell_type": "code",
   "execution_count": 90,
   "metadata": {
    "ExecuteTime": {
     "end_time": "2019-09-17T09:28:52.734918Z",
     "start_time": "2019-09-17T09:28:52.497554Z"
    },
    "hidden": true
   },
   "outputs": [
    {
     "data": {
      "text/plain": [
       "((158,), (158,))"
      ]
     },
     "execution_count": 90,
     "metadata": {},
     "output_type": "execute_result"
    }
   ],
   "source": [
    "yhat = lr.predict(X_test)\n",
    "yhat.shape, Y_test.shape"
   ]
  },
  {
   "cell_type": "code",
   "execution_count": 92,
   "metadata": {
    "ExecuteTime": {
     "end_time": "2019-09-17T09:29:49.569863Z",
     "start_time": "2019-09-17T09:29:49.361442Z"
    },
    "hidden": true
   },
   "outputs": [
    {
     "name": "stdout",
     "output_type": "stream",
     "text": [
      "              precision    recall  f1-score   support\n",
      "\n",
      "           0       0.72      0.81      0.76        72\n",
      "           1       0.82      0.74      0.78        86\n",
      "\n",
      "    accuracy                           0.77       158\n",
      "   macro avg       0.77      0.77      0.77       158\n",
      "weighted avg       0.78      0.77      0.77       158\n",
      "\n"
     ]
    }
   ],
   "source": [
    "print(classification_report(Y_test, yhat))"
   ]
  },
  {
   "cell_type": "markdown",
   "metadata": {
    "hidden": true
   },
   "source": [
    "_For a baseline attempt to clean the dataset and obtain an `F(1)` of `76%` is alright, I think_"
   ]
  },
  {
   "cell_type": "markdown",
   "metadata": {},
   "source": [
    "## 3 Concluding remarks"
   ]
  },
  {
   "cell_type": "markdown",
   "metadata": {},
   "source": [
    "- Cleaning the dataset and obtaining a meaningful `tidy` version of it is the crucial part \n",
    "- `90%` of the effort required to obtain a good useful ML model lies in obtaining the `tidy` dataset\n",
    "- Model Tweaking is not very important for this project, but that's just me speculating"
   ]
  }
 ],
 "metadata": {
  "hide_input": false,
  "kernelspec": {
   "display_name": "Python 3",
   "language": "python",
   "name": "python3"
  },
  "language_info": {
   "codemirror_mode": {
    "name": "ipython",
    "version": 3
   },
   "file_extension": ".py",
   "mimetype": "text/x-python",
   "name": "python",
   "nbconvert_exporter": "python",
   "pygments_lexer": "ipython3",
   "version": "3.7.4"
  },
  "toc": {
   "base_numbering": 1,
   "nav_menu": {},
   "number_sections": true,
   "sideBar": true,
   "skip_h1_title": false,
   "title_cell": "Table of Contents",
   "title_sidebar": "Contents",
   "toc_cell": false,
   "toc_position": {},
   "toc_section_display": true,
   "toc_window_display": false
  },
  "varInspector": {
   "cols": {
    "lenName": 16,
    "lenType": 16,
    "lenVar": 40
   },
   "kernels_config": {
    "python": {
     "delete_cmd_postfix": "",
     "delete_cmd_prefix": "del ",
     "library": "var_list.py",
     "varRefreshCmd": "print(var_dic_list())"
    },
    "r": {
     "delete_cmd_postfix": ") ",
     "delete_cmd_prefix": "rm(",
     "library": "var_list.r",
     "varRefreshCmd": "cat(var_dic_list()) "
    }
   },
   "oldHeight": 112,
   "position": {
    "height": "493px",
    "left": "1045px",
    "right": "20px",
    "top": "120px",
    "width": "221px"
   },
   "types_to_exclude": [
    "module",
    "function",
    "builtin_function_or_method",
    "instance",
    "_Feature"
   ],
   "varInspector_section_display": "block",
   "window_display": false
  }
 },
 "nbformat": 4,
 "nbformat_minor": 2
}
